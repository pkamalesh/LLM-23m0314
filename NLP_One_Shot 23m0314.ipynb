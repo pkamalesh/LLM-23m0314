{
 "cells": [
  {
   "cell_type": "code",
   "execution_count": 1,
   "id": "5157f6f1-6c3e-435e-a04b-7a10fbd393b3",
   "metadata": {},
   "outputs": [],
   "source": [
    "from nltk.tokenize import sent_tokenize\n",
    "from nltk.tokenize import word_tokenize\n",
    "from nltk.tokenize import wordpunct_tokenize\n",
    "from nltk.tokenize import TreebankWordTokenizer\n"
   ]
  },
  {
   "cell_type": "markdown",
   "id": "5d36ce31-679d-47d2-b5af-78284ba7f35a",
   "metadata": {},
   "source": [
    "Tokenization"
   ]
  },
  {
   "cell_type": "code",
   "execution_count": 3,
   "id": "cd913df5-9627-4f78-bf62-363fe9188a88",
   "metadata": {},
   "outputs": [],
   "source": [
    "corpus=\"\"\"Hiiiii, I am Kamalesh. learning NLP \"\"\""
   ]
  },
  {
   "cell_type": "code",
   "execution_count": 4,
   "id": "e2051bc5-3a85-4123-8f20-9d9aac0e2a15",
   "metadata": {},
   "outputs": [
    {
     "name": "stdout",
     "output_type": "stream",
     "text": [
      "Hiiiii, I am Kamalesh. learning NLP \n"
     ]
    }
   ],
   "source": [
    "print(corpus)\n"
   ]
  },
  {
   "cell_type": "code",
   "execution_count": 5,
   "id": "9becc233-1aed-4805-8613-841e4b8844dc",
   "metadata": {},
   "outputs": [
    {
     "name": "stdout",
     "output_type": "stream",
     "text": [
      "<class 'list'>\n"
     ]
    }
   ],
   "source": [
    "documents=sent_tokenize(corpus)\n",
    "print(type(documents))\n"
   ]
  },
  {
   "cell_type": "code",
   "execution_count": 6,
   "id": "093b94c3-b66b-4d98-a98b-a0a90ddeb1e8",
   "metadata": {},
   "outputs": [
    {
     "name": "stdout",
     "output_type": "stream",
     "text": [
      "Hiiiii, I am Kamalesh.\n",
      "learning NLP\n"
     ]
    }
   ],
   "source": [
    "for sentence in documents:\n",
    "    print(sentence)"
   ]
  },
  {
   "cell_type": "code",
   "execution_count": 7,
   "id": "623c1e2a-a034-4042-b25d-da8870b4107d",
   "metadata": {},
   "outputs": [
    {
     "data": {
      "text/plain": [
       "['Hiiiii', ',', 'I', 'am', 'Kamalesh', '.', 'learning', 'NLP']"
      ]
     },
     "execution_count": 7,
     "metadata": {},
     "output_type": "execute_result"
    }
   ],
   "source": [
    "word_tokenize(corpus)"
   ]
  },
  {
   "cell_type": "code",
   "execution_count": 8,
   "id": "56746d04-c9bf-4d54-83d6-afbd61a6c60c",
   "metadata": {},
   "outputs": [
    {
     "name": "stdout",
     "output_type": "stream",
     "text": [
      "['Hiiiii', ',', 'I', 'am', 'Kamalesh', '.']\n",
      "['learning', 'NLP']\n"
     ]
    }
   ],
   "source": [
    "for sentence in documents:\n",
    "    print(word_tokenize(sentence))"
   ]
  },
  {
   "cell_type": "code",
   "execution_count": 9,
   "id": "8cc6bea9-1d7f-4033-a860-d44dbcd9fcc6",
   "metadata": {},
   "outputs": [
    {
     "data": {
      "text/plain": [
       "['Hiiiii', ',', 'I', 'am', 'Kamalesh', '.', 'learning', 'NLP']"
      ]
     },
     "execution_count": 9,
     "metadata": {},
     "output_type": "execute_result"
    }
   ],
   "source": [
    "wordpunct_tokenize(corpus)"
   ]
  },
  {
   "cell_type": "code",
   "execution_count": 10,
   "id": "adbf4e88-6566-4554-9e10-d4b881b0cbe3",
   "metadata": {},
   "outputs": [
    {
     "data": {
      "text/plain": [
       "['Hiiiii', ',', 'I', 'am', 'Kamalesh.', 'learning', 'NLP']"
      ]
     },
     "execution_count": 10,
     "metadata": {},
     "output_type": "execute_result"
    }
   ],
   "source": [
    "tokenizer=TreebankWordTokenizer()\n",
    "tokenizer.tokenize(corpus)\n"
   ]
  },
  {
   "cell_type": "code",
   "execution_count": null,
   "id": "9f190151-c2fe-4863-9b9f-b2e751853b2b",
   "metadata": {},
   "outputs": [],
   "source": []
  },
  {
   "cell_type": "raw",
   "id": "d78adef5-7406-4682-bb96-f4fa705027f5",
   "metadata": {},
   "source": [
    "Stemming"
   ]
  },
  {
   "cell_type": "code",
   "execution_count": 11,
   "id": "9b8d9872-9990-4e4a-9c2a-97ee1ae82829",
   "metadata": {},
   "outputs": [],
   "source": [
    "from nltk.stem import PorterStemmer\n",
    "from nltk.stem import RegexpStemmer\n",
    "from nltk.stem import SnowballStemmer\n"
   ]
  },
  {
   "cell_type": "code",
   "execution_count": 12,
   "id": "2aea9c78-3ad3-4e57-919b-276ad7466c6e",
   "metadata": {},
   "outputs": [],
   "source": [
    "words=[\"eating\",\"eats\",\"eaten\",\"writing\",\"writes\",\"programming\",\"programs\",\"history\",\"finally\",\"finalized\"]\n"
   ]
  },
  {
   "cell_type": "code",
   "execution_count": 13,
   "id": "f8f81b6e-4d39-44ef-9f4e-3d8d2412a7cd",
   "metadata": {},
   "outputs": [
    {
     "name": "stdout",
     "output_type": "stream",
     "text": [
      "eating---->eat\n",
      "eats---->eat\n",
      "eaten---->eaten\n",
      "writing---->write\n",
      "writes---->write\n",
      "programming---->program\n",
      "programs---->program\n",
      "history---->histori\n",
      "finally---->final\n",
      "finalized---->final\n"
     ]
    }
   ],
   "source": [
    "stemming=PorterStemmer()\n",
    "\n",
    "for word in words:\n",
    "    print(word+\"---->\"+stemming.stem(word))"
   ]
  },
  {
   "cell_type": "code",
   "execution_count": 14,
   "id": "2a64e56f-1949-483c-985e-54a90a588d2b",
   "metadata": {},
   "outputs": [
    {
     "data": {
      "text/plain": [
       "'congratul'"
      ]
     },
     "execution_count": 14,
     "metadata": {},
     "output_type": "execute_result"
    }
   ],
   "source": [
    "stemming.stem('congratulations')\n"
   ]
  },
  {
   "cell_type": "code",
   "execution_count": 15,
   "id": "4a304188-a186-4004-903e-a18d3f2796df",
   "metadata": {},
   "outputs": [
    {
     "data": {
      "text/plain": [
       "'eat'"
      ]
     },
     "execution_count": 15,
     "metadata": {},
     "output_type": "execute_result"
    }
   ],
   "source": [
    "reg_stemmer=RegexpStemmer('ing$|s$|e$|able$', min=4)\n",
    "reg_stemmer.stem('eating')\n"
   ]
  },
  {
   "cell_type": "code",
   "execution_count": 16,
   "id": "bb6e2544-750d-4cdb-96d0-5ae9c06de808",
   "metadata": {},
   "outputs": [
    {
     "name": "stdout",
     "output_type": "stream",
     "text": [
      "eating---->eat\n",
      "eats---->eat\n",
      "eaten---->eaten\n",
      "writing---->write\n",
      "writes---->write\n",
      "programming---->program\n",
      "programs---->program\n",
      "history---->histori\n",
      "finally---->final\n",
      "finalized---->final\n"
     ]
    }
   ],
   "source": [
    "snowballsstemmer=SnowballStemmer('english')\n",
    "for word in words:\n",
    "    print(word+\"---->\"+snowballsstemmer.stem(word))"
   ]
  },
  {
   "cell_type": "code",
   "execution_count": 17,
   "id": "1ecc3657-43ec-41d2-9802-bf9e620b99cb",
   "metadata": {},
   "outputs": [
    {
     "data": {
      "text/plain": [
       "('fairli', 'sportingli')"
      ]
     },
     "execution_count": 17,
     "metadata": {},
     "output_type": "execute_result"
    }
   ],
   "source": [
    "stemming.stem(\"fairly\"),stemming.stem(\"sportingly\")"
   ]
  },
  {
   "cell_type": "code",
   "execution_count": 18,
   "id": "327456d4-5988-457e-b90e-afea79c01184",
   "metadata": {},
   "outputs": [
    {
     "data": {
      "text/plain": [
       "('fair', 'sport')"
      ]
     },
     "execution_count": 18,
     "metadata": {},
     "output_type": "execute_result"
    }
   ],
   "source": [
    "snowballsstemmer.stem(\"fairly\"),snowballsstemmer.stem(\"sportingly\")"
   ]
  },
  {
   "cell_type": "code",
   "execution_count": 19,
   "id": "863ab5be-1c52-4ace-b180-15be58e736eb",
   "metadata": {},
   "outputs": [
    {
     "data": {
      "text/plain": [
       "'goe'"
      ]
     },
     "execution_count": 19,
     "metadata": {},
     "output_type": "execute_result"
    }
   ],
   "source": [
    "stemming.stem('goes')\n"
   ]
  },
  {
   "cell_type": "code",
   "execution_count": null,
   "id": "33ffbc97-11b7-47f6-ba34-5b7c3abe8a44",
   "metadata": {},
   "outputs": [],
   "source": []
  },
  {
   "cell_type": "markdown",
   "id": "c78ddefa-8689-4328-aa4c-f9145ec1e621",
   "metadata": {},
   "source": [
    "Lemmatization"
   ]
  },
  {
   "cell_type": "code",
   "execution_count": 21,
   "id": "5e662f35-7605-4b97-b6c5-36964eaa3cd8",
   "metadata": {},
   "outputs": [],
   "source": [
    "from nltk.stem import WordNetLemmatizer\n"
   ]
  },
  {
   "cell_type": "code",
   "execution_count": 22,
   "id": "8c9363ac-9e37-4f4b-9fbb-29ef8e6d2c73",
   "metadata": {},
   "outputs": [],
   "source": [
    "lemmatizer=WordNetLemmatizer()"
   ]
  },
  {
   "cell_type": "code",
   "execution_count": 23,
   "id": "5f524ecb-c798-4bf5-bce0-7af6d4a33c5b",
   "metadata": {},
   "outputs": [],
   "source": [
    "words=[\"eating\",\"eats\",\"eaten\",\"writing\",\"writes\",\"programming\",\"programs\",\"history\",\"finally\",\"finalized\"]\n"
   ]
  },
  {
   "cell_type": "code",
   "execution_count": 24,
   "id": "fd567ee8-f5cb-4e09-b000-1d189690e562",
   "metadata": {},
   "outputs": [
    {
     "name": "stdout",
     "output_type": "stream",
     "text": [
      "eating---->eat\n",
      "eats---->eat\n",
      "eaten---->eat\n",
      "writing---->write\n",
      "writes---->write\n",
      "programming---->program\n",
      "programs---->program\n",
      "history---->history\n",
      "finally---->finally\n",
      "finalized---->finalize\n"
     ]
    }
   ],
   "source": [
    "for word in words:\n",
    "    print(word+\"---->\"+lemmatizer.lemmatize(word,pos='v'))"
   ]
  },
  {
   "cell_type": "code",
   "execution_count": 25,
   "id": "2d5a9760-7f01-4f37-b8b5-feeee5161c20",
   "metadata": {},
   "outputs": [
    {
     "data": {
      "text/plain": [
       "('fairly', 'sportingly')"
      ]
     },
     "execution_count": 25,
     "metadata": {},
     "output_type": "execute_result"
    }
   ],
   "source": [
    "lemmatizer.lemmatize(\"fairly\",pos='v'),lemmatizer.lemmatize(\"sportingly\")\n"
   ]
  },
  {
   "cell_type": "code",
   "execution_count": null,
   "id": "090d16ce-c541-4b00-b426-bcb5a7279057",
   "metadata": {},
   "outputs": [],
   "source": []
  },
  {
   "cell_type": "markdown",
   "id": "18a6fc9f-f576-43e4-b9aa-883ee49aaca6",
   "metadata": {},
   "source": [
    "Stopwords"
   ]
  },
  {
   "cell_type": "code",
   "execution_count": 27,
   "id": "2083ce4a-c348-4bdb-b278-294636f2b34d",
   "metadata": {},
   "outputs": [],
   "source": [
    "from nltk.stem import PorterStemmer\n",
    "from nltk.corpus import stopwords\n",
    "from nltk.stem import PorterStemmer\n",
    "from nltk.stem import WordNetLemmatizer\n",
    "from nltk.stem import SnowballStemmer\n"
   ]
  },
  {
   "cell_type": "code",
   "execution_count": 28,
   "id": "b9128808-9faf-4342-9cd2-4f769056e149",
   "metadata": {},
   "outputs": [],
   "source": [
    "paragraph = \"\"\"The general ML model process involves input data being processed by the model, which generates an output based on the applied algorithm. If the output is incorrect, feedback is provided to refine and improve the model until it learns accurately.  To differentiate between supervised and unsupervised learning, consider these scenarios: Facebook recognizing friends in tagged photos is supervised learning, as it uses labeled data. Netflix recommending movies based on past choices also falls under supervised learning. Conversely, analyzing bank data for suspicious transactions and flagging fraud is an example of unsupervised learning, as it identifies patterns without labeled data. Machine learning is feasible today due to the availability of vast amounts of data, enhanced memory handling capabilities, and increased computational power. Various applications of ML span across different fields. In healthcare, ML predicts diagnostics for doctors. Social media companies use ML for sentiment analysis, while the finance sector employs it for fraud detection. E-commerce platforms predict customer churn, and ride-sharing services like Uber use surge pricing models and predictive demand modeling.\n",
    "\"\"\""
   ]
  },
  {
   "cell_type": "code",
   "execution_count": 29,
   "id": "90c0eb9c-6223-4d1f-b74f-ce8dfccab021",
   "metadata": {},
   "outputs": [
    {
     "name": "stderr",
     "output_type": "stream",
     "text": [
      "[nltk_data] Downloading package stopwords to\n",
      "[nltk_data]     C:\\Users\\pkama\\AppData\\Roaming\\nltk_data...\n",
      "[nltk_data]   Package stopwords is already up-to-date!\n"
     ]
    },
    {
     "data": {
      "text/plain": [
       "True"
      ]
     },
     "execution_count": 29,
     "metadata": {},
     "output_type": "execute_result"
    }
   ],
   "source": [
    "import nltk\n",
    "nltk.download('stopwords')"
   ]
  },
  {
   "cell_type": "code",
   "execution_count": 30,
   "id": "0926e120-ab7e-4cbc-a2f6-416358a1e476",
   "metadata": {},
   "outputs": [
    {
     "data": {
      "text/plain": [
       "['i',\n",
       " 'me',\n",
       " 'my',\n",
       " 'myself',\n",
       " 'we',\n",
       " 'our',\n",
       " 'ours',\n",
       " 'ourselves',\n",
       " 'you',\n",
       " \"you're\",\n",
       " \"you've\",\n",
       " \"you'll\",\n",
       " \"you'd\",\n",
       " 'your',\n",
       " 'yours',\n",
       " 'yourself',\n",
       " 'yourselves',\n",
       " 'he',\n",
       " 'him',\n",
       " 'his',\n",
       " 'himself',\n",
       " 'she',\n",
       " \"she's\",\n",
       " 'her',\n",
       " 'hers',\n",
       " 'herself',\n",
       " 'it',\n",
       " \"it's\",\n",
       " 'its',\n",
       " 'itself',\n",
       " 'they',\n",
       " 'them',\n",
       " 'their',\n",
       " 'theirs',\n",
       " 'themselves',\n",
       " 'what',\n",
       " 'which',\n",
       " 'who',\n",
       " 'whom',\n",
       " 'this',\n",
       " 'that',\n",
       " \"that'll\",\n",
       " 'these',\n",
       " 'those',\n",
       " 'am',\n",
       " 'is',\n",
       " 'are',\n",
       " 'was',\n",
       " 'were',\n",
       " 'be',\n",
       " 'been',\n",
       " 'being',\n",
       " 'have',\n",
       " 'has',\n",
       " 'had',\n",
       " 'having',\n",
       " 'do',\n",
       " 'does',\n",
       " 'did',\n",
       " 'doing',\n",
       " 'a',\n",
       " 'an',\n",
       " 'the',\n",
       " 'and',\n",
       " 'but',\n",
       " 'if',\n",
       " 'or',\n",
       " 'because',\n",
       " 'as',\n",
       " 'until',\n",
       " 'while',\n",
       " 'of',\n",
       " 'at',\n",
       " 'by',\n",
       " 'for',\n",
       " 'with',\n",
       " 'about',\n",
       " 'against',\n",
       " 'between',\n",
       " 'into',\n",
       " 'through',\n",
       " 'during',\n",
       " 'before',\n",
       " 'after',\n",
       " 'above',\n",
       " 'below',\n",
       " 'to',\n",
       " 'from',\n",
       " 'up',\n",
       " 'down',\n",
       " 'in',\n",
       " 'out',\n",
       " 'on',\n",
       " 'off',\n",
       " 'over',\n",
       " 'under',\n",
       " 'again',\n",
       " 'further',\n",
       " 'then',\n",
       " 'once',\n",
       " 'here',\n",
       " 'there',\n",
       " 'when',\n",
       " 'where',\n",
       " 'why',\n",
       " 'how',\n",
       " 'all',\n",
       " 'any',\n",
       " 'both',\n",
       " 'each',\n",
       " 'few',\n",
       " 'more',\n",
       " 'most',\n",
       " 'other',\n",
       " 'some',\n",
       " 'such',\n",
       " 'no',\n",
       " 'nor',\n",
       " 'not',\n",
       " 'only',\n",
       " 'own',\n",
       " 'same',\n",
       " 'so',\n",
       " 'than',\n",
       " 'too',\n",
       " 'very',\n",
       " 's',\n",
       " 't',\n",
       " 'can',\n",
       " 'will',\n",
       " 'just',\n",
       " 'don',\n",
       " \"don't\",\n",
       " 'should',\n",
       " \"should've\",\n",
       " 'now',\n",
       " 'd',\n",
       " 'll',\n",
       " 'm',\n",
       " 'o',\n",
       " 're',\n",
       " 've',\n",
       " 'y',\n",
       " 'ain',\n",
       " 'aren',\n",
       " \"aren't\",\n",
       " 'couldn',\n",
       " \"couldn't\",\n",
       " 'didn',\n",
       " \"didn't\",\n",
       " 'doesn',\n",
       " \"doesn't\",\n",
       " 'hadn',\n",
       " \"hadn't\",\n",
       " 'hasn',\n",
       " \"hasn't\",\n",
       " 'haven',\n",
       " \"haven't\",\n",
       " 'isn',\n",
       " \"isn't\",\n",
       " 'ma',\n",
       " 'mightn',\n",
       " \"mightn't\",\n",
       " 'mustn',\n",
       " \"mustn't\",\n",
       " 'needn',\n",
       " \"needn't\",\n",
       " 'shan',\n",
       " \"shan't\",\n",
       " 'shouldn',\n",
       " \"shouldn't\",\n",
       " 'wasn',\n",
       " \"wasn't\",\n",
       " 'weren',\n",
       " \"weren't\",\n",
       " 'won',\n",
       " \"won't\",\n",
       " 'wouldn',\n",
       " \"wouldn't\"]"
      ]
     },
     "execution_count": 30,
     "metadata": {},
     "output_type": "execute_result"
    }
   ],
   "source": [
    "stopwords.words('english')"
   ]
  },
  {
   "cell_type": "code",
   "execution_count": 31,
   "id": "7a14f5d7-ae05-4c91-883c-31ab552bd00e",
   "metadata": {},
   "outputs": [],
   "source": [
    "stemmer=PorterStemmer()\n"
   ]
  },
  {
   "cell_type": "code",
   "execution_count": 32,
   "id": "ef3f8393-1b11-4673-850c-d79c35215461",
   "metadata": {},
   "outputs": [
    {
     "data": {
      "text/plain": [
       "list"
      ]
     },
     "execution_count": 32,
     "metadata": {},
     "output_type": "execute_result"
    }
   ],
   "source": [
    "sentences=nltk.sent_tokenize(paragraph)\n",
    "type(sentences)\n"
   ]
  },
  {
   "cell_type": "code",
   "execution_count": 33,
   "id": "0fc7e831-a973-42f2-a0c6-90d0f77583d6",
   "metadata": {},
   "outputs": [
    {
     "data": {
      "text/plain": [
       "['the gener ml model process involv input data process model , gener output base appli algorithm .',\n",
       " 'if output incorrect , feedback provid refin improv model learn accur .',\n",
       " 'to differenti supervis unsupervis learn , consid scenario : facebook recogn friend tag photo supervis learn , use label data .',\n",
       " 'netflix recommend movi base past choic also fall supervis learn .',\n",
       " 'convers , analyz bank data suspici transact flag fraud exampl unsupervis learn , identifi pattern without label data .',\n",
       " 'machin learn feasibl today due avail vast amount data , enhanc memori handl capabl , increas comput power .',\n",
       " 'variou applic ml span across differ field .',\n",
       " 'in healthcar , ml predict diagnost doctor .',\n",
       " 'social media compani use ml sentiment analysi , financ sector employ fraud detect .',\n",
       " 'e-commerc platform predict custom churn , ride-shar servic like uber use surg price model predict demand model .']"
      ]
     },
     "execution_count": 33,
     "metadata": {},
     "output_type": "execute_result"
    }
   ],
   "source": [
    "for i in range(len(sentences)):\n",
    "    words=nltk.word_tokenize(sentences[i])\n",
    "    words=[stemmer.stem(word) for word in words if word not in set(stopwords.words('english'))]\n",
    "    sentences[i]=' '.join(words)\n",
    "\n",
    "sentences"
   ]
  },
  {
   "cell_type": "code",
   "execution_count": 41,
   "id": "10cfa3f6-911d-4a17-b4c5-804a613e3881",
   "metadata": {},
   "outputs": [],
   "source": [
    "snowballstemmer=SnowballStemmer('english')\n"
   ]
  },
  {
   "cell_type": "code",
   "execution_count": 43,
   "id": "4c2c82e3-41eb-4c28-80dd-45f4db70de91",
   "metadata": {},
   "outputs": [],
   "source": [
    "for i in range(len(sentences)):\n",
    "    words=nltk.word_tokenize(sentences[i])\n",
    "    words=[snowballstemmer.stem(word) for word in words if word not in set(stopwords.words('english'))]\n",
    "    sentences[i]=' '.join(words)"
   ]
  },
  {
   "cell_type": "code",
   "execution_count": 45,
   "id": "4e7b5343-d1a1-4c9f-91e0-32e793d51067",
   "metadata": {},
   "outputs": [
    {
     "data": {
      "text/plain": [
       "['gener ml model process involv input data process model , gener output base appli algorithm .',\n",
       " 'output incorrect , feedback provid refin improv model learn accur .',\n",
       " 'differenti supervi unsupervi learn , consid scenario : facebook recogn friend tag photo supervi learn , use label data .',\n",
       " 'netflix recommend movi base past choic also fall supervi learn .',\n",
       " 'conver , analyz bank data suspici transact flag fraud exampl unsupervi learn , identifi pattern without label data .',\n",
       " 'machin learn feasibl today due avail vast amount data , enhanc memori handl capabl , increa comput power .',\n",
       " 'variou applic ml span across differ field .',\n",
       " 'healthcar , ml predict diagnost doctor .',\n",
       " 'social media compani use ml sentiment analysi , financ sector employ fraud detect .',\n",
       " 'e-commerc platform predict custom churn , ride-shar servic like uber use surg price model predict demand model .']"
      ]
     },
     "execution_count": 45,
     "metadata": {},
     "output_type": "execute_result"
    }
   ],
   "source": [
    "sentences"
   ]
  },
  {
   "cell_type": "code",
   "execution_count": null,
   "id": "57102946-1d08-48f3-b3d4-9f270f8bbca5",
   "metadata": {},
   "outputs": [],
   "source": []
  },
  {
   "cell_type": "markdown",
   "id": "8441aa22-214b-4b58-a954-535853b637cf",
   "metadata": {},
   "source": [
    "POS Tagging"
   ]
  },
  {
   "cell_type": "code",
   "execution_count": 49,
   "id": "e6333b81-1999-4236-bec0-8bfe4fdd331f",
   "metadata": {},
   "outputs": [],
   "source": [
    "sentences=nltk.sent_tokenize(paragraph)\n"
   ]
  },
  {
   "cell_type": "code",
   "execution_count": 51,
   "id": "711e01fa-4a9b-4b8e-befe-f63cf2c84833",
   "metadata": {},
   "outputs": [
    {
     "data": {
      "text/plain": [
       "['The general ML model process involves input data being processed by the model, which generates an output based on the applied algorithm.',\n",
       " 'If the output is incorrect, feedback is provided to refine and improve the model until it learns accurately.',\n",
       " 'To differentiate between supervised and unsupervised learning, consider these scenarios: Facebook recognizing friends in tagged photos is supervised learning, as it uses labeled data.',\n",
       " 'Netflix recommending movies based on past choices also falls under supervised learning.',\n",
       " 'Conversely, analyzing bank data for suspicious transactions and flagging fraud is an example of unsupervised learning, as it identifies patterns without labeled data.',\n",
       " 'Machine learning is feasible today due to the availability of vast amounts of data, enhanced memory handling capabilities, and increased computational power.',\n",
       " 'Various applications of ML span across different fields.',\n",
       " 'In healthcare, ML predicts diagnostics for doctors.',\n",
       " 'Social media companies use ML for sentiment analysis, while the finance sector employs it for fraud detection.',\n",
       " 'E-commerce platforms predict customer churn, and ride-sharing services like Uber use surge pricing models and predictive demand modeling.']"
      ]
     },
     "execution_count": 51,
     "metadata": {},
     "output_type": "execute_result"
    }
   ],
   "source": [
    "sentences"
   ]
  },
  {
   "cell_type": "code",
   "execution_count": 53,
   "id": "2fa3cb32-de19-4b89-967f-4feb7d7a70c9",
   "metadata": {},
   "outputs": [
    {
     "name": "stderr",
     "output_type": "stream",
     "text": [
      "[nltk_data] Downloading package averaged_perceptron_tagger to\n",
      "[nltk_data]     C:\\Users\\pkama\\AppData\\Roaming\\nltk_data...\n",
      "[nltk_data]   Package averaged_perceptron_tagger is already up-to-\n",
      "[nltk_data]       date!\n"
     ]
    },
    {
     "data": {
      "text/plain": [
       "True"
      ]
     },
     "execution_count": 53,
     "metadata": {},
     "output_type": "execute_result"
    }
   ],
   "source": [
    "nltk.download('averaged_perceptron_tagger')\n"
   ]
  },
  {
   "cell_type": "code",
   "execution_count": 55,
   "id": "892ec7a0-d127-41d1-a012-11c5bb744f17",
   "metadata": {},
   "outputs": [
    {
     "name": "stdout",
     "output_type": "stream",
     "text": [
      "[('The', 'DT'), ('general', 'JJ'), ('ML', 'NNP'), ('model', 'NN'), ('process', 'NN'), ('involves', 'VBZ'), ('input', 'VBN'), ('data', 'NNS'), ('processed', 'VBD'), ('model', 'NN'), (',', ','), ('generates', 'VBZ'), ('output', 'NN'), ('based', 'VBN'), ('applied', 'JJ'), ('algorithm', 'NN'), ('.', '.')]\n",
      "[('If', 'IN'), ('output', 'NN'), ('incorrect', 'VBP'), (',', ','), ('feedback', 'NN'), ('provided', 'VBD'), ('refine', 'JJ'), ('improve', 'VB'), ('model', 'NN'), ('learns', 'VBZ'), ('accurately', 'RB'), ('.', '.')]\n",
      "[('To', 'TO'), ('differentiate', 'VB'), ('supervised', 'VBN'), ('unsupervised', 'JJ'), ('learning', 'NN'), (',', ','), ('consider', 'VB'), ('scenarios', 'NNS'), (':', ':'), ('Facebook', 'NNP'), ('recognizing', 'VBG'), ('friends', 'NNS'), ('tagged', 'VBN'), ('photos', 'NNS'), ('supervised', 'VBD'), ('learning', 'NN'), (',', ','), ('uses', 'VBZ'), ('labeled', 'VBN'), ('data', 'NNS'), ('.', '.')]\n",
      "[('Netflix', 'NNP'), ('recommending', 'VBG'), ('movies', 'NNS'), ('based', 'VBN'), ('past', 'JJ'), ('choices', 'NNS'), ('also', 'RB'), ('falls', 'VBZ'), ('supervised', 'JJ'), ('learning', 'NN'), ('.', '.')]\n",
      "[('Conversely', 'RB'), (',', ','), ('analyzing', 'VBG'), ('bank', 'NN'), ('data', 'NNS'), ('suspicious', 'JJ'), ('transactions', 'NNS'), ('flagging', 'VBG'), ('fraud', 'NN'), ('example', 'NN'), ('unsupervised', 'VBD'), ('learning', 'NN'), (',', ','), ('identifies', 'NNS'), ('patterns', 'VBP'), ('without', 'IN'), ('labeled', 'VBN'), ('data', 'NNS'), ('.', '.')]\n",
      "[('Machine', 'NN'), ('learning', 'VBG'), ('feasible', 'JJ'), ('today', 'NN'), ('due', 'JJ'), ('availability', 'NN'), ('vast', 'JJ'), ('amounts', 'NNS'), ('data', 'NNS'), (',', ','), ('enhanced', 'VBD'), ('memory', 'NN'), ('handling', 'NN'), ('capabilities', 'NNS'), (',', ','), ('increased', 'VBD'), ('computational', 'JJ'), ('power', 'NN'), ('.', '.')]\n",
      "[('Various', 'JJ'), ('applications', 'NNS'), ('ML', 'NNP'), ('span', 'VBP'), ('across', 'IN'), ('different', 'JJ'), ('fields', 'NNS'), ('.', '.')]\n",
      "[('In', 'IN'), ('healthcare', 'NN'), (',', ','), ('ML', 'NNP'), ('predicts', 'VBZ'), ('diagnostics', 'NNS'), ('doctors', 'NNS'), ('.', '.')]\n",
      "[('Social', 'JJ'), ('media', 'NNS'), ('companies', 'NNS'), ('use', 'VBP'), ('ML', 'NNP'), ('sentiment', 'NN'), ('analysis', 'NN'), (',', ','), ('finance', 'NN'), ('sector', 'NN'), ('employs', 'VBZ'), ('fraud', 'NN'), ('detection', 'NN'), ('.', '.')]\n",
      "[('E-commerce', 'NN'), ('platforms', 'NNS'), ('predict', 'VBP'), ('customer', 'NN'), ('churn', 'NN'), (',', ','), ('ride-sharing', 'JJ'), ('services', 'NNS'), ('like', 'IN'), ('Uber', 'NNP'), ('use', 'VBP'), ('surge', 'NN'), ('pricing', 'NN'), ('models', 'NNS'), ('predictive', 'JJ'), ('demand', 'NN'), ('modeling', 'NN'), ('.', '.')]\n"
     ]
    }
   ],
   "source": [
    "for i in range(len(sentences)):\n",
    "    words=nltk.word_tokenize(sentences[i])\n",
    "    words=[word for word in words if word not in set(stopwords.words('english'))]\n",
    "    pos_tag=nltk.pos_tag(words)\n",
    "    print(pos_tag)"
   ]
  },
  {
   "cell_type": "code",
   "execution_count": 57,
   "id": "75bd4e82-c368-472a-8498-1de0109f76aa",
   "metadata": {},
   "outputs": [
    {
     "data": {
      "text/plain": [
       "['Taj',\n",
       " 'Mahal',\n",
       " 'is',\n",
       " 'a',\n",
       " 'beautiful',\n",
       " 'Monument',\n",
       " 'and',\n",
       " 'is',\n",
       " 'one',\n",
       " 'of',\n",
       " 'the',\n",
       " 'seven',\n",
       " 'wonder',\n",
       " 'of',\n",
       " 'the',\n",
       " 'world']"
      ]
     },
     "execution_count": 57,
     "metadata": {},
     "output_type": "execute_result"
    }
   ],
   "source": [
    " \"Taj Mahal is a beautiful Monument and is one of the seven wonder of the world \".split()"
   ]
  },
  {
   "cell_type": "code",
   "execution_count": 59,
   "id": "df164b19-4cfa-4c96-8292-52338d91940a",
   "metadata": {},
   "outputs": [
    {
     "name": "stdout",
     "output_type": "stream",
     "text": [
      "[('Taj', 'NNP'), ('Mahal', 'NNP'), ('is', 'VBZ'), ('a', 'DT'), ('beautiful', 'JJ'), ('Monument', 'NN'), ('and', 'CC'), ('is', 'VBZ'), ('one', 'CD'), ('of', 'IN'), ('the', 'DT'), ('seven', 'CD'), ('wonder', 'NN'), ('of', 'IN'), ('the', 'DT'), ('world', 'NN')]\n"
     ]
    }
   ],
   "source": [
    "print(nltk.pos_tag(\"Taj Mahal is a beautiful Monument and is one of the seven wonder of the world \".split()))"
   ]
  },
  {
   "cell_type": "markdown",
   "id": "f59b7a1a-3b58-4009-b1ad-a0e64a34c26a",
   "metadata": {},
   "source": []
  },
  {
   "cell_type": "markdown",
   "id": "2a30ad69-6823-4e21-9a74-8cb3185b57af",
   "metadata": {},
   "source": [
    "NER"
   ]
  },
  {
   "cell_type": "code",
   "execution_count": 63,
   "id": "0ecef2c2-9429-4e36-8e12-1d96b62abbf6",
   "metadata": {},
   "outputs": [],
   "source": [
    "sentence=\"The Eiffel Tower was built from 1887 to 1889 by Gustave Eiffel, whose company specialized in building metal frameworks and structures.\""
   ]
  },
  {
   "cell_type": "code",
   "execution_count": 65,
   "id": "a8409165-0ab1-44f6-93ad-acc146c1d1c8",
   "metadata": {},
   "outputs": [],
   "source": [
    "words=nltk.word_tokenize(sentence)\n"
   ]
  },
  {
   "cell_type": "code",
   "execution_count": 67,
   "id": "f0edefdf-7574-4174-af52-b426c70f0496",
   "metadata": {},
   "outputs": [
    {
     "name": "stderr",
     "output_type": "stream",
     "text": [
      "[nltk_data] Downloading package maxent_ne_chunker to\n",
      "[nltk_data]     C:\\Users\\pkama\\AppData\\Roaming\\nltk_data...\n",
      "[nltk_data]   Package maxent_ne_chunker is already up-to-date!\n"
     ]
    },
    {
     "data": {
      "text/plain": [
       "True"
      ]
     },
     "execution_count": 67,
     "metadata": {},
     "output_type": "execute_result"
    }
   ],
   "source": [
    "nltk.download('maxent_ne_chunker')"
   ]
  },
  {
   "cell_type": "code",
   "execution_count": 69,
   "id": "115fc145-1b01-4437-9c5e-0a53b74aea17",
   "metadata": {},
   "outputs": [],
   "source": [
    "tag_elements=nltk.pos_tag(words)"
   ]
  },
  {
   "cell_type": "code",
   "execution_count": 71,
   "id": "4dca34e0-f73b-4cf0-b558-c6fdfee68ed5",
   "metadata": {},
   "outputs": [
    {
     "name": "stderr",
     "output_type": "stream",
     "text": [
      "[nltk_data] Downloading package words to\n",
      "[nltk_data]     C:\\Users\\pkama\\AppData\\Roaming\\nltk_data...\n",
      "[nltk_data]   Package words is already up-to-date!\n"
     ]
    },
    {
     "data": {
      "text/plain": [
       "True"
      ]
     },
     "execution_count": 71,
     "metadata": {},
     "output_type": "execute_result"
    }
   ],
   "source": [
    "nltk.download('words')"
   ]
  },
  {
   "cell_type": "code",
   "execution_count": 83,
   "id": "39892afa-1ef9-40fb-89bc-c51b5b46d94e",
   "metadata": {},
   "outputs": [],
   "source": [
    "nltk.ne_chunk(tag_elements).draw()"
   ]
  },
  {
   "cell_type": "code",
   "execution_count": null,
   "id": "f56e89dd-8e5a-4743-b6d9-14abc3e3576e",
   "metadata": {},
   "outputs": [],
   "source": []
  },
  {
   "cell_type": "markdown",
   "id": "4fd2ba58-844e-4b49-b990-25f1e91225c7",
   "metadata": {},
   "source": [
    "Word2Vec"
   ]
  },
  {
   "cell_type": "code",
   "execution_count": 87,
   "id": "549800cd-00b6-412f-9c68-a26dbfd134fc",
   "metadata": {},
   "outputs": [
    {
     "name": "stdout",
     "output_type": "stream",
     "text": [
      "Requirement already satisfied: gensim in c:\\users\\pkama\\anaconda3\\lib\\site-packages (4.3.0)\n",
      "Requirement already satisfied: numpy>=1.18.5 in c:\\users\\pkama\\anaconda3\\lib\\site-packages (from gensim) (1.24.3)\n",
      "Requirement already satisfied: scipy>=1.7.0 in c:\\users\\pkama\\anaconda3\\lib\\site-packages (from gensim) (1.13.0)\n",
      "Requirement already satisfied: smart-open>=1.8.1 in c:\\users\\pkama\\anaconda3\\lib\\site-packages (from gensim) (5.2.1)\n",
      "Requirement already satisfied: FuzzyTM>=0.4.0 in c:\\users\\pkama\\anaconda3\\lib\\site-packages (from gensim) (2.0.5)\n",
      "Requirement already satisfied: pandas in c:\\users\\pkama\\anaconda3\\lib\\site-packages (from FuzzyTM>=0.4.0->gensim) (2.1.4)\n",
      "Requirement already satisfied: pyfume in c:\\users\\pkama\\anaconda3\\lib\\site-packages (from FuzzyTM>=0.4.0->gensim) (0.3.1)\n",
      "Requirement already satisfied: python-dateutil>=2.8.2 in c:\\users\\pkama\\anaconda3\\lib\\site-packages (from pandas->FuzzyTM>=0.4.0->gensim) (2.8.2)\n",
      "Requirement already satisfied: pytz>=2020.1 in c:\\users\\pkama\\anaconda3\\lib\\site-packages (from pandas->FuzzyTM>=0.4.0->gensim) (2023.3.post1)\n",
      "Requirement already satisfied: tzdata>=2022.1 in c:\\users\\pkama\\anaconda3\\lib\\site-packages (from pandas->FuzzyTM>=0.4.0->gensim) (2023.3)\n",
      "Requirement already satisfied: simpful in c:\\users\\pkama\\anaconda3\\lib\\site-packages (from pyfume->FuzzyTM>=0.4.0->gensim) (2.12.0)\n",
      "Requirement already satisfied: fst-pso in c:\\users\\pkama\\anaconda3\\lib\\site-packages (from pyfume->FuzzyTM>=0.4.0->gensim) (1.8.1)\n",
      "Requirement already satisfied: typing-extensions in c:\\users\\pkama\\anaconda3\\lib\\site-packages (from pyfume->FuzzyTM>=0.4.0->gensim) (4.9.0)\n",
      "Requirement already satisfied: six>=1.5 in c:\\users\\pkama\\anaconda3\\lib\\site-packages (from python-dateutil>=2.8.2->pandas->FuzzyTM>=0.4.0->gensim) (1.16.0)\n",
      "Requirement already satisfied: miniful in c:\\users\\pkama\\anaconda3\\lib\\site-packages (from fst-pso->pyfume->FuzzyTM>=0.4.0->gensim) (0.0.6)\n",
      "Note: you may need to restart the kernel to use updated packages.\n"
     ]
    },
    {
     "name": "stderr",
     "output_type": "stream",
     "text": [
      "WARNING: Skipping C:\\Users\\pkama\\anaconda3\\Lib\\site-packages\\numpy-1.26.4.dist-info due to invalid metadata entry 'name'\n",
      "WARNING: Skipping C:\\Users\\pkama\\anaconda3\\Lib\\site-packages\\numpy-1.26.4.dist-info due to invalid metadata entry 'name'\n",
      "WARNING: Skipping C:\\Users\\pkama\\anaconda3\\Lib\\site-packages\\numpy-1.26.4.dist-info due to invalid metadata entry 'name'\n",
      "WARNING: Skipping C:\\Users\\pkama\\anaconda3\\Lib\\site-packages\\numpy-1.26.4.dist-info due to invalid metadata entry 'name'\n",
      "WARNING: Skipping C:\\Users\\pkama\\anaconda3\\Lib\\site-packages\\numpy-1.26.4.dist-info due to invalid metadata entry 'name'\n",
      "WARNING: Skipping C:\\Users\\pkama\\anaconda3\\Lib\\site-packages\\numpy-1.26.4.dist-info due to invalid metadata entry 'name'\n"
     ]
    }
   ],
   "source": [
    "pip install gensim"
   ]
  },
  {
   "cell_type": "code",
   "execution_count": 91,
   "id": "a6ba02e1-6b98-4984-ad32-985b72439c61",
   "metadata": {},
   "outputs": [
    {
     "name": "stdout",
     "output_type": "stream",
     "text": [
      "Note: you may need to restart the kernel to use updated packages.Requirement already satisfied: gensim in c:\\users\\pkama\\anaconda3\\lib\\site-packages (4.3.0)\n",
      "Requirement already satisfied: numpy>=1.18.5 in c:\\users\\pkama\\anaconda3\\lib\\site-packages (from gensim) (1.24.3)\n",
      "Requirement already satisfied: scipy>=1.7.0 in c:\\users\\pkama\\anaconda3\\lib\\site-packages (from gensim) (1.13.0)\n",
      "Requirement already satisfied: smart-open>=1.8.1 in c:\\users\\pkama\\anaconda3\\lib\\site-packages (from gensim) (5.2.1)\n",
      "Requirement already satisfied: FuzzyTM>=0.4.0 in c:\\users\\pkama\\anaconda3\\lib\\site-packages (from gensim) (2.0.5)\n",
      "Requirement already satisfied: pandas in c:\\users\\pkama\\anaconda3\\lib\\site-packages (from FuzzyTM>=0.4.0->gensim) (2.1.4)\n",
      "Requirement already satisfied: pyfume in c:\\users\\pkama\\anaconda3\\lib\\site-packages (from FuzzyTM>=0.4.0->gensim) (0.3.1)\n",
      "Requirement already satisfied: python-dateutil>=2.8.2 in c:\\users\\pkama\\anaconda3\\lib\\site-packages (from pandas->FuzzyTM>=0.4.0->gensim) (2.8.2)\n",
      "Requirement already satisfied: pytz>=2020.1 in c:\\users\\pkama\\anaconda3\\lib\\site-packages (from pandas->FuzzyTM>=0.4.0->gensim) (2023.3.post1)\n",
      "Requirement already satisfied: tzdata>=2022.1 in c:\\users\\pkama\\anaconda3\\lib\\site-packages (from pandas->FuzzyTM>=0.4.0->gensim) (2023.3)\n",
      "Requirement already satisfied: simpful in c:\\users\\pkama\\anaconda3\\lib\\site-packages (from pyfume->FuzzyTM>=0.4.0->gensim) (2.12.0)\n",
      "Requirement already satisfied: fst-pso in c:\\users\\pkama\\anaconda3\\lib\\site-packages (from pyfume->FuzzyTM>=0.4.0->gensim) (1.8.1)\n",
      "Requirement already satisfied: typing-extensions in c:\\users\\pkama\\anaconda3\\lib\\site-packages (from pyfume->FuzzyTM>=0.4.0->gensim) (4.9.0)\n",
      "Requirement already satisfied: six>=1.5 in c:\\users\\pkama\\anaconda3\\lib\\site-packages (from python-dateutil>=2.8.2->pandas->FuzzyTM>=0.4.0->gensim) (1.16.0)\n",
      "Requirement already satisfied: miniful in c:\\users\\pkama\\anaconda3\\lib\\site-packages (from fst-pso->pyfume->FuzzyTM>=0.4.0->gensim) (0.0.6)\n",
      "\n"
     ]
    },
    {
     "name": "stderr",
     "output_type": "stream",
     "text": [
      "WARNING: Skipping C:\\Users\\pkama\\anaconda3\\Lib\\site-packages\\numpy-1.26.4.dist-info due to invalid metadata entry 'name'\n",
      "WARNING: Skipping C:\\Users\\pkama\\anaconda3\\Lib\\site-packages\\numpy-1.26.4.dist-info due to invalid metadata entry 'name'\n",
      "WARNING: Skipping C:\\Users\\pkama\\anaconda3\\Lib\\site-packages\\numpy-1.26.4.dist-info due to invalid metadata entry 'name'\n",
      "WARNING: Skipping C:\\Users\\pkama\\anaconda3\\Lib\\site-packages\\numpy-1.26.4.dist-info due to invalid metadata entry 'name'\n",
      "WARNING: Skipping C:\\Users\\pkama\\anaconda3\\Lib\\site-packages\\numpy-1.26.4.dist-info due to invalid metadata entry 'name'\n",
      "WARNING: Skipping C:\\Users\\pkama\\anaconda3\\Lib\\site-packages\\numpy-1.26.4.dist-info due to invalid metadata entry 'name'\n"
     ]
    }
   ],
   "source": [
    "pip install gensim"
   ]
  },
  {
   "cell_type": "code",
   "execution_count": 95,
   "id": "2a5e59e2-f81e-4d26-9b32-ec742b9f0809",
   "metadata": {},
   "outputs": [
    {
     "name": "stdout",
     "output_type": "stream",
     "text": [
      "Requirement already satisfied: scipy in c:\\users\\pkama\\anaconda3\\lib\\site-packages (1.13.0)\n",
      "Collecting scipy\n",
      "  Downloading scipy-1.14.0-cp311-cp311-win_amd64.whl.metadata (60 kB)\n",
      "     ---------------------------------------- 0.0/60.8 kB ? eta -:--:--\n",
      "     -------------------------- ------------- 41.0/60.8 kB 2.0 MB/s eta 0:00:01\n",
      "     -------------------------------------- 60.8/60.8 kB 814.9 kB/s eta 0:00:00\n",
      "Requirement already satisfied: gensim in c:\\users\\pkama\\anaconda3\\lib\\site-packages (4.3.0)\n",
      "Collecting gensim\n",
      "  Downloading gensim-4.3.3-cp311-cp311-win_amd64.whl.metadata (8.2 kB)\n",
      "Requirement already satisfied: numpy<2.3,>=1.23.5 in c:\\users\\pkama\\anaconda3\\lib\\site-packages (from scipy) (1.24.3)\n",
      "Collecting scipy\n",
      "  Downloading scipy-1.13.1-cp311-cp311-win_amd64.whl.metadata (60 kB)\n",
      "     ---------------------------------------- 0.0/60.6 kB ? eta -:--:--\n",
      "     ---------------------------------------- 60.6/60.6 kB 1.6 MB/s eta 0:00:00\n",
      "Requirement already satisfied: smart-open>=1.8.1 in c:\\users\\pkama\\anaconda3\\lib\\site-packages (from gensim) (5.2.1)\n",
      "Downloading gensim-4.3.3-cp311-cp311-win_amd64.whl (24.0 MB)\n",
      "   ---------------------------------------- 0.0/24.0 MB ? eta -:--:--\n",
      "   ---------------------------------------- 0.1/24.0 MB 3.2 MB/s eta 0:00:08\n",
      "   ---------------------------------------- 0.2/24.0 MB 3.3 MB/s eta 0:00:08\n",
      "    --------------------------------------- 0.3/24.0 MB 2.7 MB/s eta 0:00:09\n",
      "    --------------------------------------- 0.4/24.0 MB 2.2 MB/s eta 0:00:11\n",
      "    --------------------------------------- 0.5/24.0 MB 2.3 MB/s eta 0:00:11\n",
      "   - -------------------------------------- 0.6/24.0 MB 2.6 MB/s eta 0:00:10\n",
      "   - -------------------------------------- 0.7/24.0 MB 2.7 MB/s eta 0:00:09\n",
      "   - -------------------------------------- 1.0/24.0 MB 2.9 MB/s eta 0:00:08\n",
      "   - -------------------------------------- 1.1/24.0 MB 2.8 MB/s eta 0:00:09\n",
      "   - -------------------------------------- 1.1/24.0 MB 2.7 MB/s eta 0:00:09\n",
      "   -- ------------------------------------- 1.3/24.0 MB 2.8 MB/s eta 0:00:09\n",
      "   -- ------------------------------------- 1.4/24.0 MB 2.8 MB/s eta 0:00:09\n",
      "   -- ------------------------------------- 1.6/24.0 MB 2.9 MB/s eta 0:00:08\n",
      "   -- ------------------------------------- 1.7/24.0 MB 2.9 MB/s eta 0:00:08\n",
      "   -- ------------------------------------- 1.8/24.0 MB 2.7 MB/s eta 0:00:09\n",
      "   --- ------------------------------------ 1.8/24.0 MB 2.7 MB/s eta 0:00:09\n",
      "   --- ------------------------------------ 2.1/24.0 MB 2.9 MB/s eta 0:00:08\n",
      "   --- ------------------------------------ 2.3/24.0 MB 2.9 MB/s eta 0:00:08\n",
      "   --- ------------------------------------ 2.4/24.0 MB 2.9 MB/s eta 0:00:08\n",
      "   ---- ----------------------------------- 2.4/24.0 MB 2.9 MB/s eta 0:00:08\n",
      "   ---- ----------------------------------- 2.5/24.0 MB 2.9 MB/s eta 0:00:08\n",
      "   ---- ----------------------------------- 2.7/24.0 MB 2.8 MB/s eta 0:00:08\n",
      "   ---- ----------------------------------- 2.8/24.0 MB 2.8 MB/s eta 0:00:08\n",
      "   ---- ----------------------------------- 3.0/24.0 MB 2.8 MB/s eta 0:00:08\n",
      "   ----- ---------------------------------- 3.1/24.0 MB 2.8 MB/s eta 0:00:08\n",
      "   ----- ---------------------------------- 3.1/24.0 MB 2.8 MB/s eta 0:00:08\n",
      "   ----- ---------------------------------- 3.2/24.0 MB 2.8 MB/s eta 0:00:08\n",
      "   ----- ---------------------------------- 3.4/24.0 MB 2.8 MB/s eta 0:00:08\n",
      "   ----- ---------------------------------- 3.5/24.0 MB 2.8 MB/s eta 0:00:08\n",
      "   ----- ---------------------------------- 3.5/24.0 MB 2.8 MB/s eta 0:00:08\n",
      "   ----- ---------------------------------- 3.5/24.0 MB 2.8 MB/s eta 0:00:08\n",
      "   ----- ---------------------------------- 3.5/24.0 MB 2.8 MB/s eta 0:00:08\n",
      "   ----- ---------------------------------- 3.6/24.0 MB 2.5 MB/s eta 0:00:09\n",
      "   ------ --------------------------------- 3.6/24.0 MB 2.5 MB/s eta 0:00:09\n",
      "   ------ --------------------------------- 3.8/24.0 MB 2.5 MB/s eta 0:00:09\n",
      "   ------ --------------------------------- 4.0/24.0 MB 2.5 MB/s eta 0:00:08\n",
      "   ------ --------------------------------- 4.1/24.0 MB 2.5 MB/s eta 0:00:08\n",
      "   ------ --------------------------------- 4.2/24.0 MB 2.6 MB/s eta 0:00:08\n",
      "   ------- -------------------------------- 4.3/24.0 MB 2.6 MB/s eta 0:00:08\n",
      "   ------- -------------------------------- 4.5/24.0 MB 2.6 MB/s eta 0:00:08\n",
      "   ------- -------------------------------- 4.7/24.0 MB 2.7 MB/s eta 0:00:08\n",
      "   -------- ------------------------------- 4.8/24.0 MB 2.6 MB/s eta 0:00:08\n",
      "   -------- ------------------------------- 5.0/24.0 MB 2.7 MB/s eta 0:00:08\n",
      "   -------- ------------------------------- 5.0/24.0 MB 2.6 MB/s eta 0:00:08\n",
      "   -------- ------------------------------- 5.1/24.0 MB 2.6 MB/s eta 0:00:08\n",
      "   -------- ------------------------------- 5.1/24.0 MB 2.5 MB/s eta 0:00:08\n",
      "   -------- ------------------------------- 5.2/24.0 MB 2.5 MB/s eta 0:00:08\n",
      "   -------- ------------------------------- 5.2/24.0 MB 2.5 MB/s eta 0:00:08\n",
      "   -------- ------------------------------- 5.2/24.0 MB 2.4 MB/s eta 0:00:08\n",
      "   -------- ------------------------------- 5.2/24.0 MB 2.4 MB/s eta 0:00:08\n",
      "   -------- ------------------------------- 5.3/24.0 MB 2.4 MB/s eta 0:00:08\n",
      "   -------- ------------------------------- 5.3/24.0 MB 2.4 MB/s eta 0:00:08\n",
      "   --------- ------------------------------ 5.4/24.0 MB 2.3 MB/s eta 0:00:09\n",
      "   --------- ------------------------------ 5.6/24.0 MB 2.3 MB/s eta 0:00:08\n",
      "   --------- ------------------------------ 5.7/24.0 MB 2.3 MB/s eta 0:00:08\n",
      "   --------- ------------------------------ 5.8/24.0 MB 2.4 MB/s eta 0:00:08\n",
      "   --------- ------------------------------ 5.9/24.0 MB 2.4 MB/s eta 0:00:08\n",
      "   ---------- ----------------------------- 6.1/24.0 MB 2.4 MB/s eta 0:00:08\n",
      "   ---------- ----------------------------- 6.2/24.0 MB 2.4 MB/s eta 0:00:08\n",
      "   ---------- ----------------------------- 6.4/24.0 MB 2.4 MB/s eta 0:00:08\n",
      "   ---------- ----------------------------- 6.6/24.0 MB 2.4 MB/s eta 0:00:08\n",
      "   ----------- ---------------------------- 6.7/24.0 MB 2.4 MB/s eta 0:00:08\n",
      "   ----------- ---------------------------- 6.9/24.0 MB 2.5 MB/s eta 0:00:07\n",
      "   ----------- ---------------------------- 7.0/24.0 MB 2.5 MB/s eta 0:00:07\n",
      "   ------------ --------------------------- 7.3/24.0 MB 2.5 MB/s eta 0:00:07\n",
      "   ------------ --------------------------- 7.4/24.0 MB 2.5 MB/s eta 0:00:07\n",
      "   ------------ --------------------------- 7.5/24.0 MB 2.5 MB/s eta 0:00:07\n",
      "   ------------ --------------------------- 7.5/24.0 MB 2.5 MB/s eta 0:00:07\n",
      "   ------------ --------------------------- 7.5/24.0 MB 2.5 MB/s eta 0:00:07\n",
      "   ------------ --------------------------- 7.7/24.0 MB 2.5 MB/s eta 0:00:07\n",
      "   ------------ --------------------------- 7.8/24.0 MB 2.5 MB/s eta 0:00:07\n",
      "   ------------- -------------------------- 7.9/24.0 MB 2.5 MB/s eta 0:00:07\n",
      "   ------------- -------------------------- 8.0/24.0 MB 2.5 MB/s eta 0:00:07\n",
      "   ------------- -------------------------- 8.1/24.0 MB 2.5 MB/s eta 0:00:07\n",
      "   ------------- -------------------------- 8.3/24.0 MB 2.5 MB/s eta 0:00:07\n",
      "   -------------- ------------------------- 8.5/24.0 MB 2.5 MB/s eta 0:00:07\n",
      "   -------------- ------------------------- 8.7/24.0 MB 2.5 MB/s eta 0:00:07\n",
      "   -------------- ------------------------- 8.9/24.0 MB 2.5 MB/s eta 0:00:06\n",
      "   --------------- ------------------------ 9.0/24.0 MB 2.5 MB/s eta 0:00:06\n",
      "   --------------- ------------------------ 9.1/24.0 MB 2.5 MB/s eta 0:00:06\n",
      "   --------------- ------------------------ 9.1/24.0 MB 2.5 MB/s eta 0:00:06\n",
      "   --------------- ------------------------ 9.1/24.0 MB 2.5 MB/s eta 0:00:06\n",
      "   --------------- ------------------------ 9.1/24.0 MB 2.5 MB/s eta 0:00:06\n",
      "   --------------- ------------------------ 9.2/24.0 MB 2.5 MB/s eta 0:00:07\n",
      "   --------------- ------------------------ 9.3/24.0 MB 2.5 MB/s eta 0:00:06\n",
      "   --------------- ------------------------ 9.3/24.0 MB 2.5 MB/s eta 0:00:06\n",
      "   --------------- ------------------------ 9.4/24.0 MB 2.4 MB/s eta 0:00:06\n",
      "   --------------- ------------------------ 9.6/24.0 MB 2.5 MB/s eta 0:00:06\n",
      "   ---------------- ----------------------- 9.7/24.0 MB 2.5 MB/s eta 0:00:06\n",
      "   ---------------- ----------------------- 9.9/24.0 MB 2.5 MB/s eta 0:00:06\n",
      "   ---------------- ----------------------- 9.9/24.0 MB 2.4 MB/s eta 0:00:06\n",
      "   ---------------- ----------------------- 10.0/24.0 MB 2.5 MB/s eta 0:00:06\n",
      "   ---------------- ----------------------- 10.2/24.0 MB 2.5 MB/s eta 0:00:06\n",
      "   ----------------- ---------------------- 10.3/24.0 MB 2.5 MB/s eta 0:00:06\n",
      "   ----------------- ---------------------- 10.6/24.0 MB 2.5 MB/s eta 0:00:06\n",
      "   ----------------- ---------------------- 10.7/24.0 MB 2.5 MB/s eta 0:00:06\n",
      "   ------------------ --------------------- 10.9/24.0 MB 2.5 MB/s eta 0:00:06\n",
      "   ------------------ --------------------- 11.0/24.0 MB 2.5 MB/s eta 0:00:06\n",
      "   ------------------ --------------------- 11.1/24.0 MB 2.5 MB/s eta 0:00:06\n",
      "   ------------------ --------------------- 11.3/24.0 MB 2.5 MB/s eta 0:00:06\n",
      "   ------------------- -------------------- 11.5/24.0 MB 2.5 MB/s eta 0:00:05\n",
      "   ------------------- -------------------- 11.7/24.0 MB 2.6 MB/s eta 0:00:05\n",
      "   ------------------- -------------------- 11.7/24.0 MB 2.5 MB/s eta 0:00:05\n",
      "   ------------------- -------------------- 11.8/24.0 MB 2.5 MB/s eta 0:00:05\n",
      "   -------------------- ------------------- 12.0/24.0 MB 2.6 MB/s eta 0:00:05\n",
      "   -------------------- ------------------- 12.1/24.0 MB 2.6 MB/s eta 0:00:05\n",
      "   -------------------- ------------------- 12.3/24.0 MB 2.5 MB/s eta 0:00:05\n",
      "   -------------------- ------------------- 12.4/24.0 MB 2.5 MB/s eta 0:00:05\n",
      "   -------------------- ------------------- 12.5/24.0 MB 2.5 MB/s eta 0:00:05\n",
      "   -------------------- ------------------- 12.5/24.0 MB 2.5 MB/s eta 0:00:05\n",
      "   -------------------- ------------------- 12.6/24.0 MB 2.5 MB/s eta 0:00:05\n",
      "   --------------------- ------------------ 12.7/24.0 MB 2.5 MB/s eta 0:00:05\n",
      "   --------------------- ------------------ 12.7/24.0 MB 2.5 MB/s eta 0:00:05\n",
      "   --------------------- ------------------ 12.9/24.0 MB 2.5 MB/s eta 0:00:05\n",
      "   --------------------- ------------------ 13.0/24.0 MB 2.5 MB/s eta 0:00:05\n",
      "   --------------------- ------------------ 13.1/24.0 MB 2.5 MB/s eta 0:00:05\n",
      "   --------------------- ------------------ 13.2/24.0 MB 2.5 MB/s eta 0:00:05\n",
      "   ---------------------- ----------------- 13.3/24.0 MB 2.5 MB/s eta 0:00:05\n",
      "   ---------------------- ----------------- 13.4/24.0 MB 2.5 MB/s eta 0:00:05\n",
      "   ---------------------- ----------------- 13.6/24.0 MB 2.5 MB/s eta 0:00:05\n",
      "   ---------------------- ----------------- 13.7/24.0 MB 2.5 MB/s eta 0:00:05\n",
      "   ----------------------- ---------------- 13.9/24.0 MB 2.6 MB/s eta 0:00:04\n",
      "   ----------------------- ---------------- 14.0/24.0 MB 2.6 MB/s eta 0:00:04\n",
      "   ----------------------- ---------------- 14.1/24.0 MB 2.6 MB/s eta 0:00:04\n",
      "   ----------------------- ---------------- 14.4/24.0 MB 2.6 MB/s eta 0:00:04\n",
      "   ----------------------- ---------------- 14.4/24.0 MB 2.6 MB/s eta 0:00:04\n",
      "   ----------------------- ---------------- 14.4/24.0 MB 2.6 MB/s eta 0:00:04\n",
      "   ----------------------- ---------------- 14.4/24.0 MB 2.6 MB/s eta 0:00:04\n",
      "   ----------------------- ---------------- 14.4/24.0 MB 2.6 MB/s eta 0:00:04\n",
      "   ----------------------- ---------------- 14.4/24.0 MB 2.6 MB/s eta 0:00:04\n",
      "   ------------------------ --------------- 14.6/24.0 MB 2.5 MB/s eta 0:00:04\n",
      "   ------------------------ --------------- 14.7/24.0 MB 2.5 MB/s eta 0:00:04\n",
      "   ------------------------ --------------- 14.9/24.0 MB 2.5 MB/s eta 0:00:04\n",
      "   ------------------------- -------------- 15.0/24.0 MB 2.5 MB/s eta 0:00:04\n",
      "   ------------------------- -------------- 15.1/24.0 MB 2.5 MB/s eta 0:00:04\n",
      "   ------------------------- -------------- 15.3/24.0 MB 2.5 MB/s eta 0:00:04\n",
      "   ------------------------- -------------- 15.4/24.0 MB 2.6 MB/s eta 0:00:04\n",
      "   ------------------------- -------------- 15.6/24.0 MB 2.7 MB/s eta 0:00:04\n",
      "   -------------------------- ------------- 15.7/24.0 MB 2.7 MB/s eta 0:00:04\n",
      "   -------------------------- ------------- 15.9/24.0 MB 2.7 MB/s eta 0:00:04\n",
      "   -------------------------- ------------- 16.0/24.0 MB 2.7 MB/s eta 0:00:03\n",
      "   -------------------------- ------------- 16.2/24.0 MB 2.7 MB/s eta 0:00:03\n",
      "   --------------------------- ------------ 16.2/24.0 MB 2.7 MB/s eta 0:00:03\n",
      "   --------------------------- ------------ 16.3/24.0 MB 2.7 MB/s eta 0:00:03\n",
      "   --------------------------- ------------ 16.4/24.0 MB 2.7 MB/s eta 0:00:03\n",
      "   --------------------------- ------------ 16.4/24.0 MB 2.7 MB/s eta 0:00:03\n",
      "   --------------------------- ------------ 16.6/24.0 MB 2.6 MB/s eta 0:00:03\n",
      "   --------------------------- ------------ 16.7/24.0 MB 2.6 MB/s eta 0:00:03\n",
      "   ---------------------------- ----------- 16.9/24.0 MB 2.6 MB/s eta 0:00:03\n",
      "   ---------------------------- ----------- 17.0/24.0 MB 2.6 MB/s eta 0:00:03\n",
      "   ---------------------------- ----------- 17.2/24.0 MB 2.6 MB/s eta 0:00:03\n",
      "   ---------------------------- ----------- 17.4/24.0 MB 2.6 MB/s eta 0:00:03\n",
      "   ----------------------------- ---------- 17.5/24.0 MB 2.6 MB/s eta 0:00:03\n",
      "   ----------------------------- ---------- 17.8/24.0 MB 2.7 MB/s eta 0:00:03\n",
      "   ----------------------------- ---------- 17.9/24.0 MB 2.7 MB/s eta 0:00:03\n",
      "   ------------------------------ --------- 18.2/24.0 MB 2.7 MB/s eta 0:00:03\n",
      "   ------------------------------ --------- 18.3/24.0 MB 2.8 MB/s eta 0:00:03\n",
      "   ------------------------------ --------- 18.6/24.0 MB 2.8 MB/s eta 0:00:02\n",
      "   ------------------------------- -------- 18.7/24.0 MB 2.7 MB/s eta 0:00:02\n",
      "   ------------------------------- -------- 18.9/24.0 MB 2.8 MB/s eta 0:00:02\n",
      "   ------------------------------- -------- 19.0/24.0 MB 2.8 MB/s eta 0:00:02\n",
      "   -------------------------------- ------- 19.3/24.0 MB 2.8 MB/s eta 0:00:02\n",
      "   -------------------------------- ------- 19.5/24.0 MB 2.9 MB/s eta 0:00:02\n",
      "   -------------------------------- ------- 19.6/24.0 MB 2.9 MB/s eta 0:00:02\n",
      "   -------------------------------- ------- 19.7/24.0 MB 2.9 MB/s eta 0:00:02\n",
      "   -------------------------------- ------- 19.8/24.0 MB 2.9 MB/s eta 0:00:02\n",
      "   --------------------------------- ------ 19.9/24.0 MB 2.9 MB/s eta 0:00:02\n",
      "   --------------------------------- ------ 20.0/24.0 MB 2.9 MB/s eta 0:00:02\n",
      "   --------------------------------- ------ 20.1/24.0 MB 2.8 MB/s eta 0:00:02\n",
      "   --------------------------------- ------ 20.1/24.0 MB 2.8 MB/s eta 0:00:02\n",
      "   --------------------------------- ------ 20.2/24.0 MB 2.9 MB/s eta 0:00:02\n",
      "   --------------------------------- ------ 20.4/24.0 MB 2.8 MB/s eta 0:00:02\n",
      "   ---------------------------------- ----- 20.5/24.0 MB 2.8 MB/s eta 0:00:02\n",
      "   ---------------------------------- ----- 20.7/24.0 MB 2.8 MB/s eta 0:00:02\n",
      "   ---------------------------------- ----- 20.8/24.0 MB 2.8 MB/s eta 0:00:02\n",
      "   ---------------------------------- ----- 21.0/24.0 MB 2.8 MB/s eta 0:00:02\n",
      "   ----------------------------------- ---- 21.1/24.0 MB 2.8 MB/s eta 0:00:02\n",
      "   ----------------------------------- ---- 21.3/24.0 MB 2.8 MB/s eta 0:00:01\n",
      "   ----------------------------------- ---- 21.4/24.0 MB 2.8 MB/s eta 0:00:01\n",
      "   ------------------------------------ --- 21.7/24.0 MB 2.8 MB/s eta 0:00:01\n",
      "   ------------------------------------ --- 21.8/24.0 MB 2.8 MB/s eta 0:00:01\n",
      "   ------------------------------------ --- 22.0/24.0 MB 2.8 MB/s eta 0:00:01\n",
      "   ------------------------------------ --- 22.1/24.0 MB 2.8 MB/s eta 0:00:01\n",
      "   ------------------------------------- -- 22.3/24.0 MB 2.8 MB/s eta 0:00:01\n",
      "   ------------------------------------- -- 22.5/24.0 MB 2.9 MB/s eta 0:00:01\n",
      "   ------------------------------------- -- 22.6/24.0 MB 2.9 MB/s eta 0:00:01\n",
      "   -------------------------------------- - 22.9/24.0 MB 2.9 MB/s eta 0:00:01\n",
      "   -------------------------------------- - 22.9/24.0 MB 2.9 MB/s eta 0:00:01\n",
      "   -------------------------------------- - 23.1/24.0 MB 2.9 MB/s eta 0:00:01\n",
      "   -------------------------------------- - 23.2/24.0 MB 2.9 MB/s eta 0:00:01\n",
      "   -------------------------------------- - 23.3/24.0 MB 2.9 MB/s eta 0:00:01\n",
      "   -------------------------------------- - 23.3/24.0 MB 2.9 MB/s eta 0:00:01\n",
      "   ---------------------------------------  23.4/24.0 MB 2.9 MB/s eta 0:00:01\n",
      "   ---------------------------------------  23.6/24.0 MB 2.9 MB/s eta 0:00:01\n",
      "   ---------------------------------------  23.7/24.0 MB 2.9 MB/s eta 0:00:01\n",
      "   ---------------------------------------  23.7/24.0 MB 2.9 MB/s eta 0:00:01\n",
      "   ---------------------------------------  23.8/24.0 MB 2.9 MB/s eta 0:00:01\n",
      "   ---------------------------------------  23.9/24.0 MB 2.9 MB/s eta 0:00:01\n",
      "   ---------------------------------------  24.0/24.0 MB 2.9 MB/s eta 0:00:01\n",
      "   ---------------------------------------  24.0/24.0 MB 2.9 MB/s eta 0:00:01\n",
      "   ---------------------------------------- 24.0/24.0 MB 2.8 MB/s eta 0:00:00\n",
      "Downloading scipy-1.13.1-cp311-cp311-win_amd64.whl (46.2 MB)\n",
      "   ---------------------------------------- 0.0/46.2 MB ? eta -:--:--\n",
      "   ---------------------------------------- 0.1/46.2 MB 5.1 MB/s eta 0:00:10\n",
      "   ---------------------------------------- 0.2/46.2 MB 2.9 MB/s eta 0:00:16\n",
      "   ---------------------------------------- 0.3/46.2 MB 2.4 MB/s eta 0:00:20\n",
      "   ---------------------------------------- 0.4/46.2 MB 2.6 MB/s eta 0:00:18\n",
      "    --------------------------------------- 0.6/46.2 MB 2.8 MB/s eta 0:00:17\n",
      "    --------------------------------------- 0.7/46.2 MB 2.9 MB/s eta 0:00:16\n",
      "    --------------------------------------- 0.9/46.2 MB 3.0 MB/s eta 0:00:16\n",
      "    --------------------------------------- 1.0/46.2 MB 2.8 MB/s eta 0:00:17\n",
      "   - -------------------------------------- 1.2/46.2 MB 2.9 MB/s eta 0:00:16\n",
      "   - -------------------------------------- 1.3/46.2 MB 3.0 MB/s eta 0:00:15\n",
      "   - -------------------------------------- 1.4/46.2 MB 3.0 MB/s eta 0:00:16\n",
      "   - -------------------------------------- 1.6/46.2 MB 3.1 MB/s eta 0:00:15\n",
      "   - -------------------------------------- 1.8/46.2 MB 3.1 MB/s eta 0:00:15\n",
      "   - -------------------------------------- 1.9/46.2 MB 3.0 MB/s eta 0:00:15\n",
      "   - -------------------------------------- 2.1/46.2 MB 3.2 MB/s eta 0:00:14\n",
      "   - -------------------------------------- 2.2/46.2 MB 3.2 MB/s eta 0:00:14\n",
      "   -- ------------------------------------- 2.3/46.2 MB 3.2 MB/s eta 0:00:14\n",
      "   -- ------------------------------------- 2.5/46.2 MB 3.1 MB/s eta 0:00:14\n",
      "   -- ------------------------------------- 2.6/46.2 MB 3.2 MB/s eta 0:00:14\n",
      "   -- ------------------------------------- 2.7/46.2 MB 3.1 MB/s eta 0:00:15\n",
      "   -- ------------------------------------- 2.8/46.2 MB 3.1 MB/s eta 0:00:14\n",
      "   -- ------------------------------------- 3.0/46.2 MB 3.2 MB/s eta 0:00:14\n",
      "   -- ------------------------------------- 3.2/46.2 MB 3.2 MB/s eta 0:00:14\n",
      "   -- ------------------------------------- 3.3/46.2 MB 3.2 MB/s eta 0:00:14\n",
      "   -- ------------------------------------- 3.4/46.2 MB 3.2 MB/s eta 0:00:14\n",
      "   -- ------------------------------------- 3.4/46.2 MB 3.1 MB/s eta 0:00:14\n",
      "   --- ------------------------------------ 3.6/46.2 MB 3.1 MB/s eta 0:00:14\n",
      "   --- ------------------------------------ 3.8/46.2 MB 3.1 MB/s eta 0:00:14\n",
      "   --- ------------------------------------ 4.0/46.2 MB 3.2 MB/s eta 0:00:14\n",
      "   --- ------------------------------------ 4.1/46.2 MB 3.1 MB/s eta 0:00:14\n",
      "   --- ------------------------------------ 4.2/46.2 MB 3.1 MB/s eta 0:00:14\n",
      "   --- ------------------------------------ 4.3/46.2 MB 3.1 MB/s eta 0:00:14\n",
      "   --- ------------------------------------ 4.5/46.2 MB 3.1 MB/s eta 0:00:14\n",
      "   --- ------------------------------------ 4.6/46.2 MB 3.1 MB/s eta 0:00:14\n",
      "   ---- ----------------------------------- 4.7/46.2 MB 3.1 MB/s eta 0:00:14\n",
      "   ---- ----------------------------------- 4.9/46.2 MB 3.1 MB/s eta 0:00:14\n",
      "   ---- ----------------------------------- 5.0/46.2 MB 3.1 MB/s eta 0:00:14\n",
      "   ---- ----------------------------------- 5.2/46.2 MB 3.2 MB/s eta 0:00:13\n",
      "   ---- ----------------------------------- 5.4/46.2 MB 3.1 MB/s eta 0:00:13\n",
      "   ---- ----------------------------------- 5.6/46.2 MB 3.2 MB/s eta 0:00:13\n",
      "   ---- ----------------------------------- 5.7/46.2 MB 3.1 MB/s eta 0:00:13\n",
      "   ---- ----------------------------------- 5.8/46.2 MB 3.1 MB/s eta 0:00:14\n",
      "   ----- ---------------------------------- 6.0/46.2 MB 3.2 MB/s eta 0:00:13\n",
      "   ----- ---------------------------------- 6.2/46.2 MB 3.2 MB/s eta 0:00:13\n",
      "   ----- ---------------------------------- 6.4/46.2 MB 3.2 MB/s eta 0:00:13\n",
      "   ----- ---------------------------------- 6.5/46.2 MB 3.2 MB/s eta 0:00:13\n",
      "   ----- ---------------------------------- 6.6/46.2 MB 3.2 MB/s eta 0:00:13\n",
      "   ----- ---------------------------------- 6.7/46.2 MB 3.1 MB/s eta 0:00:13\n",
      "   ----- ---------------------------------- 6.7/46.2 MB 3.1 MB/s eta 0:00:13\n",
      "   ----- ---------------------------------- 6.8/46.2 MB 3.0 MB/s eta 0:00:13\n",
      "   ----- ---------------------------------- 6.8/46.2 MB 3.0 MB/s eta 0:00:14\n",
      "   ------ --------------------------------- 6.9/46.2 MB 3.0 MB/s eta 0:00:14\n",
      "   ------ --------------------------------- 7.1/46.2 MB 3.0 MB/s eta 0:00:13\n",
      "   ------ --------------------------------- 7.3/46.2 MB 3.0 MB/s eta 0:00:13\n",
      "   ------ --------------------------------- 7.4/46.2 MB 3.0 MB/s eta 0:00:13\n",
      "   ------ --------------------------------- 7.6/46.2 MB 3.0 MB/s eta 0:00:13\n",
      "   ------ --------------------------------- 7.7/46.2 MB 3.1 MB/s eta 0:00:13\n",
      "   ------ --------------------------------- 7.7/46.2 MB 3.0 MB/s eta 0:00:13\n",
      "   ------ --------------------------------- 7.8/46.2 MB 3.0 MB/s eta 0:00:13\n",
      "   ------ --------------------------------- 8.0/46.2 MB 3.0 MB/s eta 0:00:13\n",
      "   ------- -------------------------------- 8.1/46.2 MB 3.0 MB/s eta 0:00:13\n",
      "   ------- -------------------------------- 8.3/46.2 MB 3.0 MB/s eta 0:00:13\n",
      "   ------- -------------------------------- 8.5/46.2 MB 3.0 MB/s eta 0:00:13\n",
      "   ------- -------------------------------- 8.5/46.2 MB 3.0 MB/s eta 0:00:13\n",
      "   ------- -------------------------------- 8.6/46.2 MB 3.0 MB/s eta 0:00:13\n",
      "   ------- -------------------------------- 8.7/46.2 MB 3.0 MB/s eta 0:00:13\n",
      "   ------- -------------------------------- 8.7/46.2 MB 2.9 MB/s eta 0:00:13\n",
      "   ------- -------------------------------- 8.8/46.2 MB 2.9 MB/s eta 0:00:13\n",
      "   ------- -------------------------------- 8.9/46.2 MB 2.9 MB/s eta 0:00:13\n",
      "   ------- -------------------------------- 9.0/46.2 MB 2.9 MB/s eta 0:00:13\n",
      "   ------- -------------------------------- 9.1/46.2 MB 2.9 MB/s eta 0:00:13\n",
      "   ------- -------------------------------- 9.2/46.2 MB 2.9 MB/s eta 0:00:13\n",
      "   -------- ------------------------------- 9.4/46.2 MB 2.9 MB/s eta 0:00:13\n",
      "   -------- ------------------------------- 9.5/46.2 MB 2.9 MB/s eta 0:00:13\n",
      "   -------- ------------------------------- 9.6/46.2 MB 2.8 MB/s eta 0:00:13\n",
      "   -------- ------------------------------- 9.8/46.2 MB 2.9 MB/s eta 0:00:13\n",
      "   -------- ------------------------------- 9.9/46.2 MB 2.9 MB/s eta 0:00:13\n",
      "   -------- ------------------------------- 10.1/46.2 MB 2.9 MB/s eta 0:00:13\n",
      "   -------- ------------------------------- 10.3/46.2 MB 2.9 MB/s eta 0:00:13\n",
      "   --------- ------------------------------ 10.5/46.2 MB 2.9 MB/s eta 0:00:13\n",
      "   --------- ------------------------------ 10.7/46.2 MB 2.9 MB/s eta 0:00:13\n",
      "   --------- ------------------------------ 10.8/46.2 MB 2.9 MB/s eta 0:00:13\n",
      "   --------- ------------------------------ 11.0/46.2 MB 2.9 MB/s eta 0:00:12\n",
      "   --------- ------------------------------ 11.1/46.2 MB 2.9 MB/s eta 0:00:12\n",
      "   --------- ------------------------------ 11.3/46.2 MB 2.9 MB/s eta 0:00:12\n",
      "   --------- ------------------------------ 11.4/46.2 MB 2.9 MB/s eta 0:00:12\n",
      "   ---------- ----------------------------- 11.6/46.2 MB 2.9 MB/s eta 0:00:12\n",
      "   ---------- ----------------------------- 11.7/46.2 MB 2.9 MB/s eta 0:00:12\n",
      "   ---------- ----------------------------- 11.8/46.2 MB 2.9 MB/s eta 0:00:12\n",
      "   ---------- ----------------------------- 11.9/46.2 MB 2.9 MB/s eta 0:00:12\n",
      "   ---------- ----------------------------- 12.1/46.2 MB 2.9 MB/s eta 0:00:12\n",
      "   ---------- ----------------------------- 12.3/46.2 MB 2.9 MB/s eta 0:00:12\n",
      "   ---------- ----------------------------- 12.4/46.2 MB 2.9 MB/s eta 0:00:12\n",
      "   ---------- ----------------------------- 12.6/46.2 MB 2.9 MB/s eta 0:00:12\n",
      "   ----------- ---------------------------- 12.9/46.2 MB 2.9 MB/s eta 0:00:12\n",
      "   ----------- ---------------------------- 13.0/46.2 MB 2.9 MB/s eta 0:00:12\n",
      "   ----------- ---------------------------- 13.3/46.2 MB 3.0 MB/s eta 0:00:12\n",
      "   ----------- ---------------------------- 13.5/46.2 MB 3.0 MB/s eta 0:00:11\n",
      "   ----------- ---------------------------- 13.5/46.2 MB 3.0 MB/s eta 0:00:12\n",
      "   ----------- ---------------------------- 13.5/46.2 MB 3.0 MB/s eta 0:00:12\n",
      "   ----------- ---------------------------- 13.5/46.2 MB 3.0 MB/s eta 0:00:12\n",
      "   ----------- ---------------------------- 13.5/46.2 MB 3.0 MB/s eta 0:00:12\n",
      "   ----------- ---------------------------- 13.5/46.2 MB 3.0 MB/s eta 0:00:12\n",
      "   ----------- ---------------------------- 13.5/46.2 MB 2.8 MB/s eta 0:00:12\n",
      "   ----------- ---------------------------- 13.5/46.2 MB 2.7 MB/s eta 0:00:12\n",
      "   ----------- ---------------------------- 13.5/46.2 MB 2.7 MB/s eta 0:00:12\n",
      "   ----------- ---------------------------- 13.5/46.2 MB 2.7 MB/s eta 0:00:12\n",
      "   ----------- ---------------------------- 13.5/46.2 MB 2.7 MB/s eta 0:00:12\n",
      "   ----------- ---------------------------- 13.5/46.2 MB 2.7 MB/s eta 0:00:12\n",
      "   ----------- ---------------------------- 13.5/46.2 MB 2.7 MB/s eta 0:00:12\n",
      "   ----------- ---------------------------- 13.5/46.2 MB 2.7 MB/s eta 0:00:12\n",
      "   ----------- ---------------------------- 13.8/46.2 MB 2.6 MB/s eta 0:00:13\n",
      "   ------------ --------------------------- 13.9/46.2 MB 2.6 MB/s eta 0:00:13\n",
      "   ------------ --------------------------- 14.0/46.2 MB 2.6 MB/s eta 0:00:13\n",
      "   ------------ --------------------------- 14.2/46.2 MB 2.6 MB/s eta 0:00:13\n",
      "   ------------ --------------------------- 14.4/46.2 MB 2.6 MB/s eta 0:00:13\n",
      "   ------------ --------------------------- 14.5/46.2 MB 2.6 MB/s eta 0:00:13\n",
      "   ------------ --------------------------- 14.7/46.2 MB 2.6 MB/s eta 0:00:13\n",
      "   ------------ --------------------------- 14.8/46.2 MB 2.6 MB/s eta 0:00:13\n",
      "   ------------ --------------------------- 14.9/46.2 MB 2.6 MB/s eta 0:00:13\n",
      "   ------------ --------------------------- 15.0/46.2 MB 2.6 MB/s eta 0:00:13\n",
      "   ------------- -------------------------- 15.0/46.2 MB 2.5 MB/s eta 0:00:13\n",
      "   ------------- -------------------------- 15.2/46.2 MB 2.5 MB/s eta 0:00:13\n",
      "   ------------- -------------------------- 15.2/46.2 MB 2.5 MB/s eta 0:00:13\n",
      "   ------------- -------------------------- 15.4/46.2 MB 2.5 MB/s eta 0:00:13\n",
      "   ------------- -------------------------- 15.4/46.2 MB 2.5 MB/s eta 0:00:13\n",
      "   ------------- -------------------------- 15.5/46.2 MB 2.5 MB/s eta 0:00:13\n",
      "   ------------- -------------------------- 15.6/46.2 MB 2.5 MB/s eta 0:00:13\n",
      "   ------------- -------------------------- 15.7/46.2 MB 2.5 MB/s eta 0:00:13\n",
      "   ------------- -------------------------- 15.9/46.2 MB 2.5 MB/s eta 0:00:13\n",
      "   ------------- -------------------------- 16.0/46.2 MB 2.5 MB/s eta 0:00:13\n",
      "   ------------- -------------------------- 16.2/46.2 MB 2.5 MB/s eta 0:00:13\n",
      "   -------------- ------------------------- 16.3/46.2 MB 2.4 MB/s eta 0:00:13\n",
      "   -------------- ------------------------- 16.5/46.2 MB 2.4 MB/s eta 0:00:13\n",
      "   -------------- ------------------------- 16.6/46.2 MB 2.4 MB/s eta 0:00:13\n",
      "   -------------- ------------------------- 16.7/46.2 MB 2.4 MB/s eta 0:00:13\n",
      "   -------------- ------------------------- 16.7/46.2 MB 2.4 MB/s eta 0:00:13\n",
      "   -------------- ------------------------- 16.8/46.2 MB 2.4 MB/s eta 0:00:13\n",
      "   -------------- ------------------------- 17.0/46.2 MB 2.5 MB/s eta 0:00:12\n",
      "   -------------- ------------------------- 17.0/46.2 MB 2.4 MB/s eta 0:00:12\n",
      "   -------------- ------------------------- 17.2/46.2 MB 2.5 MB/s eta 0:00:12\n",
      "   --------------- ------------------------ 17.3/46.2 MB 2.5 MB/s eta 0:00:12\n",
      "   --------------- ------------------------ 17.4/46.2 MB 2.4 MB/s eta 0:00:12\n",
      "   --------------- ------------------------ 17.6/46.2 MB 2.4 MB/s eta 0:00:12\n",
      "   --------------- ------------------------ 17.7/46.2 MB 2.4 MB/s eta 0:00:12\n",
      "   --------------- ------------------------ 17.8/46.2 MB 2.4 MB/s eta 0:00:12\n",
      "   --------------- ------------------------ 18.0/46.2 MB 2.4 MB/s eta 0:00:12\n",
      "   --------------- ------------------------ 18.1/46.2 MB 2.4 MB/s eta 0:00:12\n",
      "   --------------- ------------------------ 18.2/46.2 MB 2.5 MB/s eta 0:00:12\n",
      "   --------------- ------------------------ 18.4/46.2 MB 2.5 MB/s eta 0:00:12\n",
      "   --------------- ------------------------ 18.4/46.2 MB 2.4 MB/s eta 0:00:12\n",
      "   ---------------- ----------------------- 18.6/46.2 MB 2.4 MB/s eta 0:00:12\n",
      "   ---------------- ----------------------- 18.7/46.2 MB 2.4 MB/s eta 0:00:12\n",
      "   ---------------- ----------------------- 19.0/46.2 MB 2.5 MB/s eta 0:00:11\n",
      "   ---------------- ----------------------- 19.2/46.2 MB 2.5 MB/s eta 0:00:11\n",
      "   ---------------- ----------------------- 19.3/46.2 MB 2.6 MB/s eta 0:00:11\n",
      "   ---------------- ----------------------- 19.5/46.2 MB 2.5 MB/s eta 0:00:11\n",
      "   ----------------- ---------------------- 19.7/46.2 MB 2.6 MB/s eta 0:00:11\n",
      "   ----------------- ---------------------- 19.8/46.2 MB 2.6 MB/s eta 0:00:11\n",
      "   ----------------- ---------------------- 19.9/46.2 MB 2.6 MB/s eta 0:00:11\n",
      "   ----------------- ---------------------- 20.1/46.2 MB 2.6 MB/s eta 0:00:11\n",
      "   ----------------- ---------------------- 20.2/46.2 MB 2.6 MB/s eta 0:00:11\n",
      "   ----------------- ---------------------- 20.5/46.2 MB 2.6 MB/s eta 0:00:10\n",
      "   ----------------- ---------------------- 20.6/46.2 MB 2.6 MB/s eta 0:00:10\n",
      "   ------------------ --------------------- 20.9/46.2 MB 2.6 MB/s eta 0:00:10\n",
      "   ------------------ --------------------- 21.1/46.2 MB 2.6 MB/s eta 0:00:10\n",
      "   ------------------ --------------------- 21.3/46.2 MB 2.6 MB/s eta 0:00:10\n",
      "   ------------------ --------------------- 21.5/46.2 MB 2.6 MB/s eta 0:00:10\n",
      "   ------------------ --------------------- 21.6/46.2 MB 2.6 MB/s eta 0:00:10\n",
      "   ------------------ --------------------- 21.8/46.2 MB 2.6 MB/s eta 0:00:10\n",
      "   ------------------- -------------------- 22.0/46.2 MB 2.6 MB/s eta 0:00:10\n",
      "   ------------------- -------------------- 22.2/46.2 MB 2.7 MB/s eta 0:00:09\n",
      "   ------------------- -------------------- 22.4/46.2 MB 2.7 MB/s eta 0:00:09\n",
      "   ------------------- -------------------- 22.7/46.2 MB 2.7 MB/s eta 0:00:09\n",
      "   ------------------- -------------------- 22.9/46.2 MB 2.7 MB/s eta 0:00:09\n",
      "   ------------------- -------------------- 23.1/46.2 MB 2.7 MB/s eta 0:00:09\n",
      "   -------------------- ------------------- 23.3/46.2 MB 2.7 MB/s eta 0:00:09\n",
      "   -------------------- ------------------- 23.5/46.2 MB 2.7 MB/s eta 0:00:09\n",
      "   -------------------- ------------------- 23.7/46.2 MB 2.7 MB/s eta 0:00:09\n",
      "   -------------------- ------------------- 23.9/46.2 MB 3.2 MB/s eta 0:00:08\n",
      "   -------------------- ------------------- 24.1/46.2 MB 3.2 MB/s eta 0:00:07\n",
      "   -------------------- ------------------- 24.2/46.2 MB 3.2 MB/s eta 0:00:07\n",
      "   --------------------- ------------------ 24.4/46.2 MB 3.2 MB/s eta 0:00:07\n",
      "   --------------------- ------------------ 24.7/46.2 MB 3.3 MB/s eta 0:00:07\n",
      "   --------------------- ------------------ 24.8/46.2 MB 3.2 MB/s eta 0:00:07\n",
      "   --------------------- ------------------ 25.0/46.2 MB 3.3 MB/s eta 0:00:07\n",
      "   --------------------- ------------------ 25.2/46.2 MB 3.3 MB/s eta 0:00:07\n",
      "   --------------------- ------------------ 25.3/46.2 MB 3.3 MB/s eta 0:00:07\n",
      "   ---------------------- ----------------- 25.6/46.2 MB 3.4 MB/s eta 0:00:07\n",
      "   ---------------------- ----------------- 25.8/46.2 MB 3.5 MB/s eta 0:00:06\n",
      "   ---------------------- ----------------- 26.0/46.2 MB 3.5 MB/s eta 0:00:06\n",
      "   ---------------------- ----------------- 26.2/46.2 MB 3.6 MB/s eta 0:00:06\n",
      "   ---------------------- ----------------- 26.4/46.2 MB 3.6 MB/s eta 0:00:06\n",
      "   ----------------------- ---------------- 26.6/46.2 MB 3.6 MB/s eta 0:00:06\n",
      "   ----------------------- ---------------- 26.8/46.2 MB 3.6 MB/s eta 0:00:06\n",
      "   ----------------------- ---------------- 27.1/46.2 MB 3.8 MB/s eta 0:00:06\n",
      "   ----------------------- ---------------- 27.2/46.2 MB 3.8 MB/s eta 0:00:06\n",
      "   ----------------------- ---------------- 27.3/46.2 MB 3.8 MB/s eta 0:00:05\n",
      "   ----------------------- ---------------- 27.4/46.2 MB 3.8 MB/s eta 0:00:05\n",
      "   ----------------------- ---------------- 27.7/46.2 MB 3.9 MB/s eta 0:00:05\n",
      "   ------------------------ --------------- 27.8/46.2 MB 3.9 MB/s eta 0:00:05\n",
      "   ------------------------ --------------- 28.0/46.2 MB 3.9 MB/s eta 0:00:05\n",
      "   ------------------------ --------------- 28.0/46.2 MB 3.8 MB/s eta 0:00:05\n",
      "   ------------------------ --------------- 28.2/46.2 MB 3.9 MB/s eta 0:00:05\n",
      "   ------------------------ --------------- 28.3/46.2 MB 3.9 MB/s eta 0:00:05\n",
      "   ------------------------ --------------- 28.5/46.2 MB 3.9 MB/s eta 0:00:05\n",
      "   ------------------------ --------------- 28.7/46.2 MB 3.9 MB/s eta 0:00:05\n",
      "   ------------------------- -------------- 28.9/46.2 MB 4.0 MB/s eta 0:00:05\n",
      "   ------------------------- -------------- 29.1/46.2 MB 3.9 MB/s eta 0:00:05\n",
      "   ------------------------- -------------- 29.1/46.2 MB 3.9 MB/s eta 0:00:05\n",
      "   ------------------------- -------------- 29.2/46.2 MB 3.9 MB/s eta 0:00:05\n",
      "   ------------------------- -------------- 29.3/46.2 MB 3.9 MB/s eta 0:00:05\n",
      "   ------------------------- -------------- 29.4/46.2 MB 3.8 MB/s eta 0:00:05\n",
      "   ------------------------- -------------- 29.5/46.2 MB 3.8 MB/s eta 0:00:05\n",
      "   ------------------------- -------------- 29.7/46.2 MB 3.8 MB/s eta 0:00:05\n",
      "   ------------------------- -------------- 29.9/46.2 MB 3.8 MB/s eta 0:00:05\n",
      "   ------------------------- -------------- 29.9/46.2 MB 3.7 MB/s eta 0:00:05\n",
      "   -------------------------- ------------- 30.1/46.2 MB 3.8 MB/s eta 0:00:05\n",
      "   -------------------------- ------------- 30.3/46.2 MB 3.8 MB/s eta 0:00:05\n",
      "   -------------------------- ------------- 30.5/46.2 MB 3.8 MB/s eta 0:00:05\n",
      "   -------------------------- ------------- 30.6/46.2 MB 3.8 MB/s eta 0:00:05\n",
      "   -------------------------- ------------- 30.9/46.2 MB 3.8 MB/s eta 0:00:05\n",
      "   -------------------------- ------------- 30.9/46.2 MB 3.8 MB/s eta 0:00:05\n",
      "   --------------------------- ------------ 31.2/46.2 MB 3.8 MB/s eta 0:00:04\n",
      "   --------------------------- ------------ 31.3/46.2 MB 3.7 MB/s eta 0:00:04\n",
      "   --------------------------- ------------ 31.5/46.2 MB 3.7 MB/s eta 0:00:04\n",
      "   --------------------------- ------------ 31.6/46.2 MB 3.7 MB/s eta 0:00:04\n",
      "   --------------------------- ------------ 31.7/46.2 MB 3.7 MB/s eta 0:00:04\n",
      "   --------------------------- ------------ 31.7/46.2 MB 3.7 MB/s eta 0:00:04\n",
      "   --------------------------- ------------ 31.7/46.2 MB 3.6 MB/s eta 0:00:05\n",
      "   --------------------------- ------------ 31.8/46.2 MB 3.6 MB/s eta 0:00:05\n",
      "   --------------------------- ------------ 31.8/46.2 MB 3.6 MB/s eta 0:00:05\n",
      "   --------------------------- ------------ 31.8/46.2 MB 3.6 MB/s eta 0:00:05\n",
      "   --------------------------- ------------ 31.8/46.2 MB 3.6 MB/s eta 0:00:05\n",
      "   --------------------------- ------------ 31.8/46.2 MB 3.6 MB/s eta 0:00:05\n",
      "   --------------------------- ------------ 31.8/46.2 MB 3.6 MB/s eta 0:00:05\n",
      "   --------------------------- ------------ 31.8/46.2 MB 3.6 MB/s eta 0:00:05\n",
      "   --------------------------- ------------ 31.8/46.2 MB 3.6 MB/s eta 0:00:05\n",
      "   --------------------------- ------------ 32.0/46.2 MB 3.2 MB/s eta 0:00:05\n",
      "   --------------------------- ------------ 32.1/46.2 MB 3.2 MB/s eta 0:00:05\n",
      "   --------------------------- ------------ 32.2/46.2 MB 3.2 MB/s eta 0:00:05\n",
      "   --------------------------- ------------ 32.3/46.2 MB 3.2 MB/s eta 0:00:05\n",
      "   ---------------------------- ----------- 32.5/46.2 MB 3.1 MB/s eta 0:00:05\n",
      "   ---------------------------- ----------- 32.5/46.2 MB 3.1 MB/s eta 0:00:05\n",
      "   ---------------------------- ----------- 32.7/46.2 MB 3.1 MB/s eta 0:00:05\n",
      "   ---------------------------- ----------- 32.8/46.2 MB 3.1 MB/s eta 0:00:05\n",
      "   ---------------------------- ----------- 32.9/46.2 MB 3.1 MB/s eta 0:00:05\n",
      "   ---------------------------- ----------- 33.0/46.2 MB 3.0 MB/s eta 0:00:05\n",
      "   ---------------------------- ----------- 33.2/46.2 MB 3.0 MB/s eta 0:00:05\n",
      "   ---------------------------- ----------- 33.4/46.2 MB 3.0 MB/s eta 0:00:05\n",
      "   ----------------------------- ---------- 33.5/46.2 MB 3.0 MB/s eta 0:00:05\n",
      "   ----------------------------- ---------- 33.8/46.2 MB 3.0 MB/s eta 0:00:05\n",
      "   ----------------------------- ---------- 33.9/46.2 MB 3.0 MB/s eta 0:00:05\n",
      "   ----------------------------- ---------- 34.0/46.2 MB 3.0 MB/s eta 0:00:05\n",
      "   ----------------------------- ---------- 34.0/46.2 MB 3.0 MB/s eta 0:00:05\n",
      "   ----------------------------- ---------- 34.3/46.2 MB 2.9 MB/s eta 0:00:05\n",
      "   ----------------------------- ---------- 34.4/46.2 MB 3.0 MB/s eta 0:00:04\n",
      "   ----------------------------- ---------- 34.6/46.2 MB 2.9 MB/s eta 0:00:04\n",
      "   ------------------------------ --------- 34.7/46.2 MB 2.9 MB/s eta 0:00:04\n",
      "   ------------------------------ --------- 34.8/46.2 MB 2.9 MB/s eta 0:00:04\n",
      "   ------------------------------ --------- 35.0/46.2 MB 2.9 MB/s eta 0:00:04\n",
      "   ------------------------------ --------- 35.0/46.2 MB 2.9 MB/s eta 0:00:04\n",
      "   ------------------------------ --------- 35.2/46.2 MB 2.9 MB/s eta 0:00:04\n",
      "   ------------------------------ --------- 35.4/46.2 MB 2.9 MB/s eta 0:00:04\n",
      "   ------------------------------ --------- 35.6/46.2 MB 2.9 MB/s eta 0:00:04\n",
      "   ------------------------------ --------- 35.7/46.2 MB 2.9 MB/s eta 0:00:04\n",
      "   ------------------------------- -------- 36.0/46.2 MB 2.9 MB/s eta 0:00:04\n",
      "   ------------------------------- -------- 36.1/46.2 MB 2.9 MB/s eta 0:00:04\n",
      "   ------------------------------- -------- 36.3/46.2 MB 2.9 MB/s eta 0:00:04\n",
      "   ------------------------------- -------- 36.5/46.2 MB 2.9 MB/s eta 0:00:04\n",
      "   ------------------------------- -------- 36.7/46.2 MB 2.9 MB/s eta 0:00:04\n",
      "   ------------------------------- -------- 36.9/46.2 MB 2.9 MB/s eta 0:00:04\n",
      "   -------------------------------- ------- 37.0/46.2 MB 2.9 MB/s eta 0:00:04\n",
      "   -------------------------------- ------- 37.3/46.2 MB 2.9 MB/s eta 0:00:04\n",
      "   -------------------------------- ------- 37.4/46.2 MB 2.9 MB/s eta 0:00:04\n",
      "   -------------------------------- ------- 37.6/46.2 MB 2.9 MB/s eta 0:00:03\n",
      "   -------------------------------- ------- 37.8/46.2 MB 2.9 MB/s eta 0:00:03\n",
      "   -------------------------------- ------- 38.0/46.2 MB 2.9 MB/s eta 0:00:03\n",
      "   -------------------------------- ------- 38.1/46.2 MB 2.9 MB/s eta 0:00:03\n",
      "   --------------------------------- ------ 38.3/46.2 MB 2.9 MB/s eta 0:00:03\n",
      "   --------------------------------- ------ 38.5/46.2 MB 2.9 MB/s eta 0:00:03\n",
      "   --------------------------------- ------ 38.6/46.2 MB 2.9 MB/s eta 0:00:03\n",
      "   --------------------------------- ------ 38.7/46.2 MB 2.9 MB/s eta 0:00:03\n",
      "   --------------------------------- ------ 38.7/46.2 MB 2.9 MB/s eta 0:00:03\n",
      "   --------------------------------- ------ 38.8/46.2 MB 2.9 MB/s eta 0:00:03\n",
      "   --------------------------------- ------ 38.8/46.2 MB 2.8 MB/s eta 0:00:03\n",
      "   --------------------------------- ------ 38.8/46.2 MB 2.8 MB/s eta 0:00:03\n",
      "   --------------------------------- ------ 39.0/46.2 MB 2.8 MB/s eta 0:00:03\n",
      "   --------------------------------- ------ 39.2/46.2 MB 2.8 MB/s eta 0:00:03\n",
      "   --------------------------------- ------ 39.2/46.2 MB 2.7 MB/s eta 0:00:03\n",
      "   ---------------------------------- ----- 39.4/46.2 MB 2.8 MB/s eta 0:00:03\n",
      "   ---------------------------------- ----- 39.6/46.2 MB 2.8 MB/s eta 0:00:03\n",
      "   ---------------------------------- ----- 39.8/46.2 MB 2.8 MB/s eta 0:00:03\n",
      "   ---------------------------------- ----- 39.9/46.2 MB 2.8 MB/s eta 0:00:03\n",
      "   ---------------------------------- ----- 40.1/46.2 MB 2.8 MB/s eta 0:00:03\n",
      "   ---------------------------------- ----- 40.3/46.2 MB 2.9 MB/s eta 0:00:03\n",
      "   ----------------------------------- ---- 40.5/46.2 MB 2.8 MB/s eta 0:00:03\n",
      "   ----------------------------------- ---- 40.7/46.2 MB 2.8 MB/s eta 0:00:02\n",
      "   ----------------------------------- ---- 40.8/46.2 MB 2.8 MB/s eta 0:00:02\n",
      "   ----------------------------------- ---- 41.0/46.2 MB 2.8 MB/s eta 0:00:02\n",
      "   ----------------------------------- ---- 41.2/46.2 MB 2.9 MB/s eta 0:00:02\n",
      "   ----------------------------------- ---- 41.4/46.2 MB 2.9 MB/s eta 0:00:02\n",
      "   ------------------------------------ --- 41.6/46.2 MB 2.9 MB/s eta 0:00:02\n",
      "   ------------------------------------ --- 41.8/46.2 MB 2.9 MB/s eta 0:00:02\n",
      "   ------------------------------------ --- 42.0/46.2 MB 3.3 MB/s eta 0:00:02\n",
      "   ------------------------------------ --- 42.2/46.2 MB 3.3 MB/s eta 0:00:02\n",
      "   ------------------------------------ --- 42.5/46.2 MB 3.3 MB/s eta 0:00:02\n",
      "   ------------------------------------ --- 42.7/46.2 MB 3.4 MB/s eta 0:00:02\n",
      "   ------------------------------------- -- 42.9/46.2 MB 3.4 MB/s eta 0:00:01\n",
      "   ------------------------------------- -- 43.1/46.2 MB 3.4 MB/s eta 0:00:01\n",
      "   ------------------------------------- -- 43.3/46.2 MB 3.5 MB/s eta 0:00:01\n",
      "   ------------------------------------- -- 43.5/46.2 MB 3.5 MB/s eta 0:00:01\n",
      "   ------------------------------------- -- 43.6/46.2 MB 3.5 MB/s eta 0:00:01\n",
      "   ------------------------------------- -- 43.8/46.2 MB 3.5 MB/s eta 0:00:01\n",
      "   -------------------------------------- - 44.0/46.2 MB 3.5 MB/s eta 0:00:01\n",
      "   -------------------------------------- - 44.2/46.2 MB 3.5 MB/s eta 0:00:01\n",
      "   -------------------------------------- - 44.4/46.2 MB 3.5 MB/s eta 0:00:01\n",
      "   -------------------------------------- - 44.5/46.2 MB 3.5 MB/s eta 0:00:01\n",
      "   -------------------------------------- - 44.6/46.2 MB 3.5 MB/s eta 0:00:01\n",
      "   -------------------------------------- - 44.6/46.2 MB 3.5 MB/s eta 0:00:01\n",
      "   -------------------------------------- - 44.9/46.2 MB 3.5 MB/s eta 0:00:01\n",
      "   ---------------------------------------  45.1/46.2 MB 3.5 MB/s eta 0:00:01\n",
      "   ---------------------------------------  45.2/46.2 MB 3.5 MB/s eta 0:00:01\n",
      "   ---------------------------------------  45.5/46.2 MB 3.6 MB/s eta 0:00:01\n",
      "   ---------------------------------------  45.6/46.2 MB 3.6 MB/s eta 0:00:01\n",
      "   ---------------------------------------  45.8/46.2 MB 3.6 MB/s eta 0:00:01\n",
      "   ---------------------------------------  45.9/46.2 MB 3.6 MB/s eta 0:00:01\n",
      "   ---------------------------------------  46.0/46.2 MB 3.6 MB/s eta 0:00:01\n",
      "   ---------------------------------------  46.2/46.2 MB 3.6 MB/s eta 0:00:01\n",
      "   ---------------------------------------  46.2/46.2 MB 3.6 MB/s eta 0:00:01\n",
      "   ---------------------------------------  46.2/46.2 MB 3.6 MB/s eta 0:00:01\n",
      "   ---------------------------------------- 46.2/46.2 MB 3.5 MB/s eta 0:00:00\n",
      "Installing collected packages: scipy, gensim\n",
      "  Attempting uninstall: scipy\n",
      "    Found existing installation: scipy 1.13.0\n",
      "    Uninstalling scipy-1.13.0:\n",
      "      Successfully uninstalled scipy-1.13.0\n",
      "  Attempting uninstall: gensim\n",
      "    Found existing installation: gensim 4.3.0\n",
      "    Uninstalling gensim-4.3.0:\n",
      "      Successfully uninstalled gensim-4.3.0\n",
      "Successfully installed gensim-4.3.3 scipy-1.13.1\n"
     ]
    },
    {
     "name": "stderr",
     "output_type": "stream",
     "text": [
      "WARNING: Skipping C:\\Users\\pkama\\anaconda3\\Lib\\site-packages\\numpy-1.26.4.dist-info due to invalid metadata entry 'name'\n",
      "WARNING: Skipping C:\\Users\\pkama\\anaconda3\\Lib\\site-packages\\numpy-1.26.4.dist-info due to invalid metadata entry 'name'\n",
      "WARNING: Skipping C:\\Users\\pkama\\anaconda3\\Lib\\site-packages\\numpy-1.26.4.dist-info due to invalid metadata entry 'name'\n",
      "    WARNING: Skipping C:\\Users\\pkama\\anaconda3\\Lib\\site-packages\\numpy-1.26.4.dist-info due to invalid metadata entry 'name'\n",
      "  WARNING: Failed to remove contents in a temporary directory 'C:\\Users\\pkama\\anaconda3\\Lib\\site-packages\\~cipy.libs'.\n",
      "  You can safely remove it manually.\n",
      "  WARNING: Failed to remove contents in a temporary directory 'C:\\Users\\pkama\\anaconda3\\Lib\\site-packages\\~cipy'.\n",
      "  You can safely remove it manually.\n",
      "WARNING: Skipping C:\\Users\\pkama\\anaconda3\\Lib\\site-packages\\numpy-1.26.4.dist-info due to invalid metadata entry 'name'\n",
      "WARNING: Skipping C:\\Users\\pkama\\anaconda3\\Lib\\site-packages\\numpy-1.26.4.dist-info due to invalid metadata entry 'name'\n",
      "WARNING: Skipping C:\\Users\\pkama\\anaconda3\\Lib\\site-packages\\numpy-1.26.4.dist-info due to invalid metadata entry 'name'\n",
      "WARNING: Skipping C:\\Users\\pkama\\anaconda3\\Lib\\site-packages\\numpy-1.26.4.dist-info due to invalid metadata entry 'name'\n"
     ]
    }
   ],
   "source": [
    "!pip install --upgrade scipy gensim"
   ]
  },
  {
   "cell_type": "code",
   "execution_count": 93,
   "id": "746c3cbc-076e-4a14-a35a-f67ae52d6674",
   "metadata": {},
   "outputs": [
    {
     "ename": "ImportError",
     "evalue": "cannot import name 'triu' from 'scipy.linalg' (C:\\Users\\pkama\\anaconda3\\Lib\\site-packages\\scipy\\linalg\\__init__.py)",
     "output_type": "error",
     "traceback": [
      "\u001b[1;31m---------------------------------------------------------------------------\u001b[0m",
      "\u001b[1;31mImportError\u001b[0m                               Traceback (most recent call last)",
      "Cell \u001b[1;32mIn[93], line 1\u001b[0m\n\u001b[1;32m----> 1\u001b[0m \u001b[38;5;28;01mimport\u001b[39;00m \u001b[38;5;21;01mgensim\u001b[39;00m\n\u001b[0;32m      2\u001b[0m \u001b[38;5;28;01mfrom\u001b[39;00m \u001b[38;5;21;01mgensim\u001b[39;00m\u001b[38;5;21;01m.\u001b[39;00m\u001b[38;5;21;01mmodels\u001b[39;00m \u001b[38;5;28;01mimport\u001b[39;00m Word2Vec, KeyedVectors\n\u001b[0;32m      3\u001b[0m \u001b[38;5;28;01mimport\u001b[39;00m \u001b[38;5;21;01mgensim\u001b[39;00m\u001b[38;5;21;01m.\u001b[39;00m\u001b[38;5;21;01mdownloader\u001b[39;00m \u001b[38;5;28;01mas\u001b[39;00m \u001b[38;5;21;01mapi\u001b[39;00m\n",
      "File \u001b[1;32m~\\anaconda3\\Lib\\site-packages\\gensim\\__init__.py:11\u001b[0m\n\u001b[0;32m      7\u001b[0m __version__ \u001b[38;5;241m=\u001b[39m \u001b[38;5;124m'\u001b[39m\u001b[38;5;124m4.3.0\u001b[39m\u001b[38;5;124m'\u001b[39m\n\u001b[0;32m      9\u001b[0m \u001b[38;5;28;01mimport\u001b[39;00m \u001b[38;5;21;01mlogging\u001b[39;00m\n\u001b[1;32m---> 11\u001b[0m \u001b[38;5;28;01mfrom\u001b[39;00m \u001b[38;5;21;01mgensim\u001b[39;00m \u001b[38;5;28;01mimport\u001b[39;00m parsing, corpora, matutils, interfaces, models, similarities, utils  \u001b[38;5;66;03m# noqa:F401\u001b[39;00m\n\u001b[0;32m     14\u001b[0m logger \u001b[38;5;241m=\u001b[39m logging\u001b[38;5;241m.\u001b[39mgetLogger(\u001b[38;5;124m'\u001b[39m\u001b[38;5;124mgensim\u001b[39m\u001b[38;5;124m'\u001b[39m)\n\u001b[0;32m     15\u001b[0m \u001b[38;5;28;01mif\u001b[39;00m \u001b[38;5;129;01mnot\u001b[39;00m logger\u001b[38;5;241m.\u001b[39mhandlers:  \u001b[38;5;66;03m# To ensure reload() doesn't add another one\u001b[39;00m\n",
      "File \u001b[1;32m~\\anaconda3\\Lib\\site-packages\\gensim\\corpora\\__init__.py:6\u001b[0m\n\u001b[0;32m      1\u001b[0m \u001b[38;5;124;03m\"\"\"\u001b[39;00m\n\u001b[0;32m      2\u001b[0m \u001b[38;5;124;03mThis package contains implementations of various streaming corpus I/O format.\u001b[39;00m\n\u001b[0;32m      3\u001b[0m \u001b[38;5;124;03m\"\"\"\u001b[39;00m\n\u001b[0;32m      5\u001b[0m \u001b[38;5;66;03m# bring corpus classes directly into package namespace, to save some typing\u001b[39;00m\n\u001b[1;32m----> 6\u001b[0m \u001b[38;5;28;01mfrom\u001b[39;00m \u001b[38;5;21;01m.\u001b[39;00m\u001b[38;5;21;01mindexedcorpus\u001b[39;00m \u001b[38;5;28;01mimport\u001b[39;00m IndexedCorpus  \u001b[38;5;66;03m# noqa:F401 must appear before the other classes\u001b[39;00m\n\u001b[0;32m      8\u001b[0m \u001b[38;5;28;01mfrom\u001b[39;00m \u001b[38;5;21;01m.\u001b[39;00m\u001b[38;5;21;01mmmcorpus\u001b[39;00m \u001b[38;5;28;01mimport\u001b[39;00m MmCorpus  \u001b[38;5;66;03m# noqa:F401\u001b[39;00m\n\u001b[0;32m      9\u001b[0m \u001b[38;5;28;01mfrom\u001b[39;00m \u001b[38;5;21;01m.\u001b[39;00m\u001b[38;5;21;01mbleicorpus\u001b[39;00m \u001b[38;5;28;01mimport\u001b[39;00m BleiCorpus  \u001b[38;5;66;03m# noqa:F401\u001b[39;00m\n",
      "File \u001b[1;32m~\\anaconda3\\Lib\\site-packages\\gensim\\corpora\\indexedcorpus.py:14\u001b[0m\n\u001b[0;32m     10\u001b[0m \u001b[38;5;28;01mimport\u001b[39;00m \u001b[38;5;21;01mlogging\u001b[39;00m\n\u001b[0;32m     12\u001b[0m \u001b[38;5;28;01mimport\u001b[39;00m \u001b[38;5;21;01mnumpy\u001b[39;00m\n\u001b[1;32m---> 14\u001b[0m \u001b[38;5;28;01mfrom\u001b[39;00m \u001b[38;5;21;01mgensim\u001b[39;00m \u001b[38;5;28;01mimport\u001b[39;00m interfaces, utils\n\u001b[0;32m     16\u001b[0m logger \u001b[38;5;241m=\u001b[39m logging\u001b[38;5;241m.\u001b[39mgetLogger(\u001b[38;5;18m__name__\u001b[39m)\n\u001b[0;32m     19\u001b[0m \u001b[38;5;28;01mclass\u001b[39;00m \u001b[38;5;21;01mIndexedCorpus\u001b[39;00m(interfaces\u001b[38;5;241m.\u001b[39mCorpusABC):\n",
      "File \u001b[1;32m~\\anaconda3\\Lib\\site-packages\\gensim\\interfaces.py:19\u001b[0m\n\u001b[0;32m      7\u001b[0m \u001b[38;5;124;03m\"\"\"Basic interfaces used across the whole Gensim package.\u001b[39;00m\n\u001b[0;32m      8\u001b[0m \n\u001b[0;32m      9\u001b[0m \u001b[38;5;124;03mThese interfaces are used for building corpora, model transformation and similarity queries.\u001b[39;00m\n\u001b[1;32m   (...)\u001b[0m\n\u001b[0;32m     14\u001b[0m \n\u001b[0;32m     15\u001b[0m \u001b[38;5;124;03m\"\"\"\u001b[39;00m\n\u001b[0;32m     17\u001b[0m \u001b[38;5;28;01mimport\u001b[39;00m \u001b[38;5;21;01mlogging\u001b[39;00m\n\u001b[1;32m---> 19\u001b[0m \u001b[38;5;28;01mfrom\u001b[39;00m \u001b[38;5;21;01mgensim\u001b[39;00m \u001b[38;5;28;01mimport\u001b[39;00m utils, matutils\n\u001b[0;32m     22\u001b[0m logger \u001b[38;5;241m=\u001b[39m logging\u001b[38;5;241m.\u001b[39mgetLogger(\u001b[38;5;18m__name__\u001b[39m)\n\u001b[0;32m     25\u001b[0m \u001b[38;5;28;01mclass\u001b[39;00m \u001b[38;5;21;01mCorpusABC\u001b[39;00m(utils\u001b[38;5;241m.\u001b[39mSaveLoad):\n",
      "File \u001b[1;32m~\\anaconda3\\Lib\\site-packages\\gensim\\matutils.py:20\u001b[0m\n\u001b[0;32m     18\u001b[0m \u001b[38;5;28;01mimport\u001b[39;00m \u001b[38;5;21;01mscipy\u001b[39;00m\u001b[38;5;21;01m.\u001b[39;00m\u001b[38;5;21;01msparse\u001b[39;00m\n\u001b[0;32m     19\u001b[0m \u001b[38;5;28;01mfrom\u001b[39;00m \u001b[38;5;21;01mscipy\u001b[39;00m\u001b[38;5;21;01m.\u001b[39;00m\u001b[38;5;21;01mstats\u001b[39;00m \u001b[38;5;28;01mimport\u001b[39;00m entropy\n\u001b[1;32m---> 20\u001b[0m \u001b[38;5;28;01mfrom\u001b[39;00m \u001b[38;5;21;01mscipy\u001b[39;00m\u001b[38;5;21;01m.\u001b[39;00m\u001b[38;5;21;01mlinalg\u001b[39;00m \u001b[38;5;28;01mimport\u001b[39;00m get_blas_funcs, triu\n\u001b[0;32m     21\u001b[0m \u001b[38;5;28;01mfrom\u001b[39;00m \u001b[38;5;21;01mscipy\u001b[39;00m\u001b[38;5;21;01m.\u001b[39;00m\u001b[38;5;21;01mlinalg\u001b[39;00m\u001b[38;5;21;01m.\u001b[39;00m\u001b[38;5;21;01mlapack\u001b[39;00m \u001b[38;5;28;01mimport\u001b[39;00m get_lapack_funcs\n\u001b[0;32m     22\u001b[0m \u001b[38;5;28;01mfrom\u001b[39;00m \u001b[38;5;21;01mscipy\u001b[39;00m\u001b[38;5;21;01m.\u001b[39;00m\u001b[38;5;21;01mspecial\u001b[39;00m \u001b[38;5;28;01mimport\u001b[39;00m psi  \u001b[38;5;66;03m# gamma function utils\u001b[39;00m\n",
      "\u001b[1;31mImportError\u001b[0m: cannot import name 'triu' from 'scipy.linalg' (C:\\Users\\pkama\\anaconda3\\Lib\\site-packages\\scipy\\linalg\\__init__.py)"
     ]
    }
   ],
   "source": [
    "import gensim\n",
    "from gensim.models import Word2Vec, KeyedVectors\n",
    "import gensim.downloader as api\n"
   ]
  },
  {
   "cell_type": "code",
   "execution_count": 89,
   "id": "43e03b16-489a-4402-8bf2-4afe8d4f421b",
   "metadata": {},
   "outputs": [
    {
     "ename": "NameError",
     "evalue": "name 'api' is not defined",
     "output_type": "error",
     "traceback": [
      "\u001b[1;31m---------------------------------------------------------------------------\u001b[0m",
      "\u001b[1;31mNameError\u001b[0m                                 Traceback (most recent call last)",
      "Cell \u001b[1;32mIn[89], line 1\u001b[0m\n\u001b[1;32m----> 1\u001b[0m wv \u001b[38;5;241m=\u001b[39m api\u001b[38;5;241m.\u001b[39mload(\u001b[38;5;124m'\u001b[39m\u001b[38;5;124mword2vec-google-news-300\u001b[39m\u001b[38;5;124m'\u001b[39m)\n\u001b[0;32m      3\u001b[0m vec_king \u001b[38;5;241m=\u001b[39m wv[\u001b[38;5;124m'\u001b[39m\u001b[38;5;124mking\u001b[39m\u001b[38;5;124m'\u001b[39m]\n",
      "\u001b[1;31mNameError\u001b[0m: name 'api' is not defined"
     ]
    }
   ],
   "source": [
    "wv = api.load('word2vec-google-news-300')\n",
    "\n",
    "vec_king = wv['king']"
   ]
  },
  {
   "cell_type": "code",
   "execution_count": null,
   "id": "fc15c26b-c5bb-4c49-8475-8cd14f6ac5d1",
   "metadata": {},
   "outputs": [],
   "source": [
    "vec_king.shape\n"
   ]
  },
  {
   "cell_type": "code",
   "execution_count": null,
   "id": "036d6dab-0da1-4986-99c6-7d415bf90149",
   "metadata": {},
   "outputs": [],
   "source": [
    "wv['cricket']"
   ]
  },
  {
   "cell_type": "code",
   "execution_count": null,
   "id": "5de9d634-fbeb-4edb-a896-00140e106881",
   "metadata": {},
   "outputs": [],
   "source": [
    "wv.most_similar('cricket')"
   ]
  },
  {
   "cell_type": "code",
   "execution_count": null,
   "id": "6172f2ea-6847-4d7a-b6a3-be6f9fc26525",
   "metadata": {},
   "outputs": [],
   "source": [
    "wv.most_similar('happy')"
   ]
  },
  {
   "cell_type": "code",
   "execution_count": null,
   "id": "608c558c-4d65-4ac1-b19d-56c19ff1c496",
   "metadata": {},
   "outputs": [],
   "source": [
    "wv.similarity(\"hockey\",\"sports\")"
   ]
  },
  {
   "cell_type": "code",
   "execution_count": null,
   "id": "b8611bca-c891-4712-b3fc-14946b0ae77e",
   "metadata": {},
   "outputs": [],
   "source": [
    "vec=wv['king']-wv['man']+wv['woman']"
   ]
  },
  {
   "cell_type": "code",
   "execution_count": null,
   "id": "d7dbca03-821d-443e-b6f5-ff41a361fb3e",
   "metadata": {},
   "outputs": [],
   "source": [
    "vec"
   ]
  },
  {
   "cell_type": "code",
   "execution_count": null,
   "id": "85c7234b-1ac7-422e-bcfe-8db7739a8136",
   "metadata": {},
   "outputs": [],
   "source": [
    "wv.most_similar([vec])"
   ]
  },
  {
   "cell_type": "code",
   "execution_count": null,
   "id": "d2225df8-d3c1-445d-9b9e-aef8cc1fd653",
   "metadata": {},
   "outputs": [],
   "source": []
  }
 ],
 "metadata": {
  "kernelspec": {
   "display_name": "Python 3 (ipykernel)",
   "language": "python",
   "name": "python3"
  },
  "language_info": {
   "codemirror_mode": {
    "name": "ipython",
    "version": 3
   },
   "file_extension": ".py",
   "mimetype": "text/x-python",
   "name": "python",
   "nbconvert_exporter": "python",
   "pygments_lexer": "ipython3",
   "version": "3.11.7"
  }
 },
 "nbformat": 4,
 "nbformat_minor": 5
}
